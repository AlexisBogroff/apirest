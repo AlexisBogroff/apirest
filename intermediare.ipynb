{
 "cells": [
  {
   "cell_type": "markdown",
   "metadata": {},
   "source": [
    "## Cyber problèmes"
   ]
  },
  {
   "cell_type": "markdown",
   "metadata": {},
   "source": [
    "### SQL Injection"
   ]
  },
  {
   "cell_type": "markdown",
   "metadata": {},
   "source": [
    "Ce qu'il ne faut pas faire"
   ]
  },
  {
   "cell_type": "code",
   "execution_count": null,
   "metadata": {},
   "outputs": [],
   "source": [
    "@app.route('/search', methods=['GET'])\n",
    "def search():\n",
    "    user_name = request.args.get('username')\n",
    "    query = \"SELECT email FROM users WHERE name = '\" + user_name + \"'\"  # Non sécurisé\n",
    "    cursor = get_db().execute(query)\n",
    "    result = cursor.fetchone()\n",
    "    cursor.close()\n",
    "    if result:\n",
    "        return \"L'adresse email de l'utilisateur est : \" + result[0]\n",
    "    else:\n",
    "        return \"Utilisateur non trouvé\""
   ]
  },
  {
   "cell_type": "markdown",
   "metadata": {},
   "source": [
    "L'attaquant peut simplement entrer dans l'URL:\n",
    "- http://127.0.0.1:5000/search?username=' OR '1'='1\n",
    "\n",
    "La requête serait donc interprétée en:\n",
    "- SELECT email FROM users WHERE name = '' OR '1'='1'\n",
    "\n",
    "Comme la condition '1'='1' est toujours vraie, la requête renverra les adresses mail **de tous les utilisateurs** de la base de données"
   ]
  },
  {
   "cell_type": "markdown",
   "metadata": {},
   "source": [
    "Ce qu'il faut faire"
   ]
  },
  {
   "cell_type": "code",
   "execution_count": null,
   "metadata": {},
   "outputs": [],
   "source": [
    "@app.route('/search', methods=['GET'])\n",
    "def search_secure():\n",
    "    user_name = request.args.get('username')\n",
    "    query = \"SELECT email FROM users WHERE name = ?\"\n",
    "    cursor = get_db().execute(query, (user_name,))\n",
    "    result = cursor.fetchone()\n",
    "    cursor.close()\n",
    "    if result:\n",
    "        return \"L'adresse email de l'utilisateur est : \" + result[0]\n",
    "    else:\n",
    "        return \"Utilisateur non trouvé\""
   ]
  },
  {
   "cell_type": "markdown",
   "metadata": {},
   "source": [
    "## Mise à disposition"
   ]
  },
  {
   "cell_type": "markdown",
   "metadata": {},
   "source": [
    "Mise à disposition pour l'ensemble des appareils sur le réseau\n",
    "```\n",
    "flask --app hello_world run --host=0.0.0.0\n",
    "flask --app hello run --debug\n",
    "```"
   ]
  }
 ],
 "metadata": {
  "language_info": {
   "name": "python"
  }
 },
 "nbformat": 4,
 "nbformat_minor": 2
}
