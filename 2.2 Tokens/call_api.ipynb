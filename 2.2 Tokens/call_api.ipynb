{
 "cells": [
  {
   "cell_type": "markdown",
   "metadata": {},
   "source": [
    "# Authentification et autorisation"
   ]
  },
  {
   "cell_type": "code",
   "execution_count": 1,
   "metadata": {},
   "outputs": [],
   "source": [
    "import requests"
   ]
  },
  {
   "cell_type": "markdown",
   "metadata": {},
   "source": [
    "### Intéraction avec l'API\n",
    "Lancez le serveur dans votre terminal\n",
    "\n",
    "```bash\n",
    "flask --app basic_api_items.py run --debug\n",
    "```"
   ]
  },
  {
   "cell_type": "code",
   "execution_count": 4,
   "metadata": {},
   "outputs": [
    {
     "name": "stdout",
     "output_type": "stream",
     "text": [
      "<Response [201]>\n",
      "{'data': {'price': 2}, 'name': 'patate'}\n"
     ]
    }
   ],
   "source": [
    "# POST\n",
    "item_name = 'patate'\n",
    "price = 2\n",
    "new_item = requests.post(f'http://localhost:5000/item/{item_name}', json={'price': price})\n",
    "print(new_item)\n",
    "print(new_item.json())"
   ]
  },
  {
   "cell_type": "code",
   "execution_count": 5,
   "metadata": {},
   "outputs": [
    {
     "name": "stdout",
     "output_type": "stream",
     "text": [
      "<Response [200]>\n",
      "{'data': {'price': 2}, 'name': 'patate'}\n"
     ]
    }
   ],
   "source": [
    "# GET\n",
    "item_1 = requests.get(f'http://localhost:5000/item/{item_name}')\n",
    "print(item_1)\n",
    "try:\n",
    "    print(item_1.json())\n",
    "except:\n",
    "    print('not found')"
   ]
  },
  {
   "cell_type": "code",
   "execution_count": 9,
   "metadata": {},
   "outputs": [
    {
     "name": "stdout",
     "output_type": "stream",
     "text": [
      "<Response [200]>\n",
      "{'data': {'carotte': 21}, 'name': 'carotte'}\n"
     ]
    }
   ],
   "source": [
    "# PUT\n",
    "import numpy as np\n",
    "new_price = np.random.randint(3, 30)\n",
    "\n",
    "update_item = requests.put(f'http://localhost:5000/item/{item_name}', json={item_name: new_price})\n",
    "print(update_item)\n",
    "print(update_item.json())"
   ]
  },
  {
   "cell_type": "code",
   "execution_count": 10,
   "metadata": {},
   "outputs": [
    {
     "name": "stdout",
     "output_type": "stream",
     "text": [
      "<Response [200]>\n",
      "{'message': 'Item deleted'}\n"
     ]
    }
   ],
   "source": [
    "# DELETE\n",
    "delete_item = requests.delete(f'http://localhost:5000/item/{item_name}')\n",
    "print(delete_item)\n",
    "print(delete_item.json())"
   ]
  },
  {
   "cell_type": "code",
   "execution_count": 6,
   "metadata": {},
   "outputs": [
    {
     "name": "stdout",
     "output_type": "stream",
     "text": [
      "<Response [200]>\n",
      "carotte patate\n",
      "{'carotte': {'data': {'price': 2}, 'name': 'carotte'}, 'patate': {'data': {'price': 2}, 'name': 'patate'}}\n"
     ]
    }
   ],
   "source": [
    "# GET sur tous les items\n",
    "items = requests.get('http://localhost:5000/items')\n",
    "print(items)\n",
    "print(*items.json())\n",
    "print(items.json())"
   ]
  },
  {
   "cell_type": "code",
   "execution_count": null,
   "metadata": {},
   "outputs": [],
   "source": []
  }
 ],
 "metadata": {
  "kernelspec": {
   "display_name": "apirest",
   "language": "python",
   "name": "python3"
  },
  "language_info": {
   "codemirror_mode": {
    "name": "ipython",
    "version": 3
   },
   "file_extension": ".py",
   "mimetype": "text/x-python",
   "name": "python",
   "nbconvert_exporter": "python",
   "pygments_lexer": "ipython3",
   "version": "3.11.6"
  }
 },
 "nbformat": 4,
 "nbformat_minor": 2
}
