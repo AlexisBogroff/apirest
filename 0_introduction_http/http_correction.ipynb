{
 "cells": [
  {
   "cell_type": "markdown",
   "metadata": {},
   "source": [
    "# HTTP Exercises"
   ]
  },
  {
   "cell_type": "code",
   "execution_count": 2,
   "metadata": {},
   "outputs": [],
   "source": [
    "import requests"
   ]
  },
  {
   "cell_type": "markdown",
   "metadata": {},
   "source": [
    "## Exemple"
   ]
  },
  {
   "cell_type": "markdown",
   "metadata": {},
   "source": [
    "### Agify API"
   ]
  },
  {
   "cell_type": "markdown",
   "metadata": {},
   "source": [
    "Exemple de chemin pour Agify"
   ]
  },
  {
   "cell_type": "code",
   "execution_count": 2,
   "metadata": {},
   "outputs": [],
   "source": [
    "agify_dan = \"https://api.agify.io/?name=dan\""
   ]
  },
  {
   "cell_type": "markdown",
   "metadata": {},
   "source": [
    "Extraction de la réponse"
   ]
  },
  {
   "cell_type": "code",
   "execution_count": 15,
   "metadata": {},
   "outputs": [
    {
     "name": "stdout",
     "output_type": "stream",
     "text": [
      "Answer status_code: <Response [200]>\n",
      "<class 'str'>\n",
      "<class 'dict'>\n",
      "{\"count\":67782,\"name\":\"dan\",\"age\":65}\n",
      "{'count': 67782, 'name': 'dan', 'age': 65}\n"
     ]
    }
   ],
   "source": [
    "# Utilisation de requets pour faire une requete GET\n",
    "agify_answer = requests.get(agify_dan)\n",
    "agify_answer_txt = agify_answer.text\n",
    "agify_answer_json = agify_answer.json()\n",
    "\n",
    "print(f\"Answer status_code: {agify_answer}\")\n",
    "\n",
    "print(type(agify_answer_txt))\n",
    "print(type(agify_answer_json))\n",
    "\n",
    "print(agify_answer_txt)\n",
    "print(agify_answer_json)"
   ]
  },
  {
   "cell_type": "markdown",
   "metadata": {},
   "source": [
    "## Exercices faciles"
   ]
  },
  {
   "cell_type": "code",
   "execution_count": 42,
   "metadata": {},
   "outputs": [
    {
     "name": "stdout",
     "output_type": "stream",
     "text": [
      "{'count': 37470, 'name': 'alexis', 'age': 43}\n",
      "Salut alexis, tu as 43 ans\n"
     ]
    }
   ],
   "source": [
    "# Exercice 1\n",
    "# Ecrire un script qui demande à l'utilisateur son prénom\n",
    "# et qui lui répond par un message personnalisé\n",
    "# en utilisant l'API agify\n",
    "# https://api.agify.io/?name=YOUR_NAME\n",
    "# Exemple de réponse: {\"name\":\"YOUR_NAME\",\"age\":30,\"count\":12345}\n",
    "\n",
    "#######################################################\n",
    "################## VOTRE REPONSE ICI ##################\n",
    "#######################################################\n",
    "\n",
    "# Réponse\n",
    "# 1. Demander le prénom\n",
    "prenom = input(\"Quel est ton prénom ? \")\n",
    "# 2. Faire la requête\n",
    "agify_answer = requests.get(f\"https://api.agify.io/?name={prenom}\")\n",
    "# 3. Parser la réponse\n",
    "agify_answer_json = agify_answer.json()\n",
    "# 4. Afficher la réponse\n",
    "print(agify_answer_json)\n",
    "# 5. Afficher un message personnalisé\n",
    "print(f\"Salut {prenom}, tu as {agify_answer_json['age']} ans\")\n"
   ]
  },
  {
   "cell_type": "code",
   "execution_count": 46,
   "metadata": {},
   "outputs": [
    {
     "name": "stdout",
     "output_type": "stream",
     "text": [
      "{'count': 26984, 'name': 'manon', 'gender': 'female', 'probability': 0.97}\n",
      "Salut manon, il est probable que ton genre soit: female\n"
     ]
    }
   ],
   "source": [
    "# Exercice 2\n",
    "# Ecrire un script qui demande à l'utilisateur son prénom\n",
    "# et qui lui répond par un message personnalisé\n",
    "# en utilisant l'API genderize\n",
    "# https://api.genderize.io/?name=YOUR_NAME\n",
    "\n",
    "#######################################################\n",
    "################## VOTRE REPONSE ICI ##################\n",
    "#######################################################\n",
    "\n",
    "\n",
    "# Réponse\n",
    "# 1. Demander le prénom\n",
    "prenom = input(\"Quel est ton prénom ? \")\n",
    "# 2. Faire la requête\n",
    "genderize_answer = requests.get(f\"https://api.genderize.io/?name={prenom}\")\n",
    "# 3. Parser la réponse\n",
    "genderize_answer_json = genderize_answer.json()\n",
    "\n",
    "# 4. Afficher la réponse\n",
    "print(genderize_answer_json)\n",
    "# 5. Afficher un message personnalisé\n",
    "print(f\"Salut {prenom}, il est probable que ton genre soit: {genderize_answer_json['gender']}\")"
   ]
  },
  {
   "cell_type": "code",
   "execution_count": 61,
   "metadata": {},
   "outputs": [
    {
     "name": "stdout",
     "output_type": "stream",
     "text": [
      "FR\n",
      "CH\n"
     ]
    }
   ],
   "source": [
    "# Exercice 3\n",
    "# Ecrire un script qui recherche pour \"dupont\"\n",
    "# le pays le plus et le moins probable\n",
    "# en utilisant l'API nationalize\n",
    "# https://api.nationalize.io/?name=YOUR_NAME\n",
    "\n",
    "#######################################################\n",
    "################## VOTRE REPONSE ICI ##################\n",
    "#######################################################\n",
    "\n",
    "# Réponse:\n",
    "name = \"dupont\"\n",
    "requests.get(f\"https://api.nationalize.io/?name={name}\").json()\n",
    "countries_dupont = requests.get(f\"https://api.nationalize.io/?name={name}\").json()\n",
    "# Pays le plus probable\n",
    "print(countries_dupont[\"country\"][0][\"country_id\"])\n",
    "# Pays le moins probable\n",
    "print(countries_dupont[\"country\"][-1][\"country_id\"])"
   ]
  },
  {
   "cell_type": "code",
   "execution_count": 36,
   "metadata": {},
   "outputs": [
    {
     "name": "stdout",
     "output_type": "stream",
     "text": [
      "Votre pays le plus probable est CL avec 7.8% de chance\n",
      "{'count': 209557, 'name': 'alexis', 'country': [{'country_id': 'CL', 'probability': 0.078}, {'country_id': 'VE', 'probability': 0.066}, {'country_id': 'GR', 'probability': 0.055}, {'country_id': 'FR', 'probability': 0.052}, {'country_id': 'EC', 'probability': 0.044}]}\n"
     ]
    }
   ],
   "source": [
    "# Exercice 3.1\n",
    "# Parsing de la réponse de l'API nationalize\n",
    "# Obtenir le pays le plus probable et son pourcentage\n",
    "# Exemple de réponse: {\"name\":\"YOUR_NAME\",\"country\":[{\"country_id\":\"FR\",\"probability\":0.75},{\"country_id\":\"BE\",\"probability\":0.25}]}\n",
    "# Indice: utiliser la fonction max() avec une fonction lambda\n",
    "# https://docs.python.org/3/library/functions.html#max\n",
    "# https://docs.python.org/3/tutorial/controlflow.html#lambda-expressions\n",
    "\n",
    "#######################################################\n",
    "################## VOTRE REPONSE ICI ##################\n",
    "#######################################################\n",
    "\n",
    "# 1. Demander le prénom\n",
    "name = input(\"Quel est votre prénom ? \")\n",
    "nationalize_answer = requests.get(f\"https://api.nationalize.io/?name={name}\")\n",
    "nationalize_answer_json = nationalize_answer.json()\n",
    "\n",
    "# Nous pourrions extraire uniquement le premier élément (qui correspond au pays le plus probable)\n",
    "# Mais utiliser la fonction max est plus fiable car elle renverra toujours le pays le plus probable$\n",
    "# Dans le cas où le site renverrait les pays dans un ordre différent (il arrive trop souvent que les fournisseurs\n",
    "# de données changent modifient la structure de leurs données sans prévenir)\n",
    "country = max(nationalize_answer_json[\"country\"], key=lambda x: x[\"probability\"])\n",
    "\n",
    "# 4. Afficher la réponse\n",
    "print(f\"Votre pays le plus probable est {country['country_id']} avec {country['probability']*100}% de chance\")\n",
    "print(nationalize_answer_json)"
   ]
  },
  {
   "cell_type": "code",
   "execution_count": 34,
   "metadata": {},
   "outputs": [
    {
     "name": "stdout",
     "output_type": "stream",
     "text": [
      "{'activity': 'Take a spontaneous road trip with some friends', 'type': 'social', 'participants': 4, 'price': 0.2, 'link': '', 'key': '2085321', 'accessibility': 0.3}\n",
      "{'activity': 'Explore a park you have never been to before', 'type': 'recreational', 'participants': 1, 'price': 0, 'link': '', 'key': '8159356', 'accessibility': 0}\n",
      "{'activity': 'Go to a karaoke bar with some friends', 'type': 'social', 'participants': 4, 'price': 0.5, 'link': '', 'key': '9072906', 'accessibility': 0.35}\n",
      "{'activity': 'Go see a Broadway production', 'type': 'recreational', 'participants': 4, 'price': 0.8, 'link': '', 'key': '4448913', 'accessibility': 0.3}\n",
      "{'activity': 'Catch up with a friend over a lunch date', 'type': 'social', 'participants': 2, 'price': 0.2, 'link': '', 'key': '5590133', 'accessibility': 0.15}\n"
     ]
    }
   ],
   "source": [
    "# Exercice 4\n",
    "# Utilisation de BoredAPI : https://www.boredapi.com/\n",
    "# Documentation : https://www.boredapi.com/documentation\n",
    "# 1. Ecrire un script qui génère des activités aléatoires\n",
    "# 2. Ecrire un script qui génère des activités aléatoires\n",
    "# 3. Ecrire un script qui génère des activités aléatoires pour 4 participants\n",
    "# 4. Ecrire un script qui génère des activités aléatoires pour 4 participants et de type \"recreational\"\n",
    "# 5. Ecrire un script qui génère des activités aléatoires pour 2 participants et qui ne nécessite pas de matériel\n",
    "\n",
    "#######################################################\n",
    "################## VOTRE REPONSE ICI ##################\n",
    "#######################################################\n",
    "\n",
    "# 1. Ecrire un script qui génère des activités aléatoires\n",
    "activity_random = requests.get(\"https://www.boredapi.com/api/activity\")\n",
    "print(activity_random.json())\n",
    "\n",
    "# 2. Ecrire un script qui génère des activités aléatoires de type \"recreational\" uniquement\n",
    "activity_recreational = requests.get(\"https://www.boredapi.com/api/activity/?type=recreational\")\n",
    "print(activity_recreational.json())\n",
    "\n",
    "# 3. Ecrire un script qui génère des activités aléatoires pour 4 participants\n",
    "activity_participants_4 = requests.get(\"https://www.boredapi.com/api/activity/?participants=4\")\n",
    "print(activity_participants_4.json())\n",
    "\n",
    "# 4. Ecrire un script qui génère des activités aléatoires pour 4 participants et de type \"recreational\"\n",
    "activity_participants_4_cooking = requests.get(\"https://www.boredapi.com/api/activity/?participants=4&type=recreational\")\n",
    "print(activity_participants_4_cooking.json())\n",
    "\n",
    "# 5. Ecrire un script qui génère des activités aléatoires pour 2 participants et qui ne nécessite pas de matériel\n",
    "activity_participants_4_cooking_no_equipment = requests.get(\"https://www.boredapi.com/api/activity/?participants=2&minaccessibility=0\")\n",
    "print(activity_participants_4_cooking_no_equipment.json())"
   ]
  },
  {
   "cell_type": "markdown",
   "metadata": {},
   "source": [
    "## Exercices plus complexes"
   ]
  },
  {
   "cell_type": "markdown",
   "metadata": {},
   "source": [
    "Exercice avec OpenDomesday\n",
    "- Site : https://opendomesday.org/\n",
    "- API : https://opendomesday.org/api/1.0/\n",
    "```\n",
    "England\n",
    "├──  County 1\n",
    "│    │\n",
    "│    ├── Hundred 1\n",
    "│    │   ├── Manor A\n",
    "│    │   │   └── Place 1\n",
    "│    │   ├── Manor B\n",
    "│    │   │   └── Place 2\n",
    "│    │   └── ...\n",
    "│    │\n",
    "│    ├── Hundred 2\n",
    "│    │   ├── Manor C\n",
    "│    │   │   └── Place 3\n",
    "│    │   ├── Manor D\n",
    "│    │   │   └── Place 4\n",
    "│    │   └── ...\n",
    "│    │\n",
    "│    └── ...\n",
    "├──  County 2\n",
    "│    │\n",
    "│    ├── Hundred 3\n",
    "│    │   ├── Manor E\n",
    "│    │   │   └── Place 5\n",
    "│    │   ├── Manor F\n",
    "│    │   │   └── Place 6\n",
    "│    │   └── ...\n",
    "│    │\n",
    "│    └── ...\n",
    "```"
   ]
  },
  {
   "cell_type": "code",
   "execution_count": 7,
   "metadata": {},
   "outputs": [],
   "source": [
    "# Petite barre de progression pour le style ;)\n",
    "# Vous pouvez la transformer en décorateur ou importer le module tqdm\n",
    "import sys\n",
    "def progress_bar(i, total):\n",
    "    percent = min(((i + 1) / total) * 100, 100)\n",
    "    filled_bar = '█' * (i + 1)\n",
    "    empty_bar = ' ' * (total - i - 1)\n",
    "    sys.stdout.write(f'\\r[{filled_bar}{empty_bar}] {percent:.2f}% Complete')\n",
    "    sys.stdout.flush()"
   ]
  },
  {
   "cell_type": "code",
   "execution_count": 200,
   "metadata": {},
   "outputs": [
    {
     "name": "stdout",
     "output_type": "stream",
     "text": [
      "40\n",
      "Kent Sussex Surrey Hampshire Berkshire Wiltshire Dorset Somerset Devon Cornwall\n"
     ]
    }
   ],
   "source": [
    "# OpenDomesday\n",
    "# https://opendomesday.org/api/\n",
    "\n",
    "# Exercice 1\n",
    "# Ecrire un script qui affiche l'ensemble des counties\n",
    "# en utilisant l'API OpenDomesday\n",
    "\n",
    "#######################################################\n",
    "################## VOTRE REPONSE ICI ##################\n",
    "#######################################################\n",
    "\n",
    "# 1. Faire la requête\n",
    "opendomesday_answer = requests.get(f\"https://opendomesday.org/api/1.0/county/\")\n",
    "# 2. Parser la réponse\n",
    "opendomesday_answer_json = opendomesday_answer.json()\n",
    "# 3.1 Afficher la réponse\n",
    "print(len(opendomesday_answer_json))\n",
    "# 3.2 Afficher les noms des counties\n",
    "print(*[county['name'] for county in opendomesday_answer_json][:10])"
   ]
  },
  {
   "cell_type": "code",
   "execution_count": 201,
   "metadata": {},
   "outputs": [
    {
     "name": "stdout",
     "output_type": "stream",
     "text": [
      "dict_keys(['id', 'name', 'name_slug', 'places_in_county'])\n",
      "1036 2558 3016 4791 6093 8701 8951 9101 11441 10771\n"
     ]
    }
   ],
   "source": [
    "# Exercice 2\n",
    "# Ecrire un script qui affiche les informations\n",
    "# du county \"Derbyshire\"\n",
    "\n",
    "#######################################################\n",
    "################## VOTRE REPONSE ICI ##################\n",
    "#######################################################\n",
    "\n",
    "# 1. Faire la requête\n",
    "opendomesday_answer = requests.get(f\"https://opendomesday.org/api/1.0/county/dby/\")\n",
    "# 2. Parser la réponse\n",
    "opendomesday_answer_json = opendomesday_answer.json()\n",
    "# 3.1 Afficher la réponse\n",
    "print(opendomesday_answer_json.keys())\n",
    "# 3.2 Afficher les identifiants des Places de Derbyshire\n",
    "print(*[place['id'] for place in opendomesday_answer_json['places_in_county']][:10])"
   ]
  },
  {
   "cell_type": "code",
   "execution_count": 203,
   "metadata": {},
   "outputs": [
    {
     "name": "stdout",
     "output_type": "stream",
     "text": [
      "dict_keys(['id', 'name', 'name_slug', 'places_in_county'])\n",
      "[1036, 2558, 3016, 4791, 6093, 8701, 8951, 9101, 11441, 10771]\n",
      "[████████████████████████████████████] 100.00% Complete\n",
      "\n",
      "352\n",
      "Alkmonton Ashe Aston Barton [Blount] Bentley Boylestone Bradley Brailsford Bupton [Church] Broughton\n"
     ]
    }
   ],
   "source": [
    "# Exercice 3\n",
    "# Maintenant que nous avons les ids pour tous les endroits du Derbyshire, nous pouvons charger tous leurs détails ...\n",
    "# Et à partir de leurs détails, nous pouvons lister tous les détails de leurs manoirs.\n",
    "# Allez chercher les données !\n",
    "\n",
    "#######################################################\n",
    "################## VOTRE REPONSE ICI ##################\n",
    "#######################################################\n",
    "\n",
    "# 1. Faire la requête pour obtenir les détails des endroits\n",
    "opendomesday_answer = requests.get(f\"https://opendomesday.org/api/1.0/county/dby/\")\n",
    "# 2. Parser la réponse\n",
    "opendomesday_answer_json = opendomesday_answer.json()\n",
    "# 3. Afficher la réponse\n",
    "print(opendomesday_answer_json.keys())\n",
    "# 4. Récupérer les ids des endroits\n",
    "ids = [place[\"id\"] for place in opendomesday_answer_json[\"places_in_county\"]]\n",
    "print(ids[:10])\n",
    "# Nombre de Places dans le Derbyshire\n",
    "n_ids = len(ids)\n",
    "\n",
    "\n",
    "# 5. Faire la requête pour obtenir les détails des manoirs dans chacun des endroits\n",
    "def get_place_details(place_id, i, tot):\n",
    "    opendomesday_answer = requests.get(f\"https://opendomesday.org/api/1.0/place/{place_id}/\")\n",
    "    opendomesday_answer_json = opendomesday_answer.json()\n",
    "    \n",
    "    if i % 10 == 0:\n",
    "        progress_bar(int(i/10), tot)\n",
    "    return opendomesday_answer_json\n",
    "\n",
    "\n",
    "# Récupération de l'ensemble des Places du Derbyshire\n",
    "places_details = [get_place_details(place_id, i, int(n_ids/10)) for i, place_id in enumerate(ids)]\n",
    "\n",
    "# 6. Afficher la réponse\n",
    "print(f\"\\n\\n{len(places_details)}\")\n",
    "# Nom des Places\n",
    "print(*[place['vill'] for place in places_details][:10])"
   ]
  },
  {
   "cell_type": "code",
   "execution_count": 210,
   "metadata": {},
   "outputs": [
    {
     "name": "stdout",
     "output_type": "stream",
     "text": [
      "13038 13040 13031 13037 13039 13058 13047 13043 12985 13055\n"
     ]
    }
   ],
   "source": [
    "# Maintenant que nous avons une quantité de données brutes, nous allons extraire les parties intéressantes.\n",
    "# Dans notre cas, nous voulons compter l'argent payé par chaque manoir et le comparer au nombre de charrues qu'il possède.\n",
    "# - Pouvez-vous trouver les champs json correspondants ?\n",
    "# - Ensuite, vous pouvez lister ces nombres pour chaque manoir du Derbyshire.\n",
    "# - Et formatez ceci dans un fichier de valeurs séparées par des virgules (CSV) approprié.\n",
    "\n",
    "#######################################################\n",
    "################## VOTRE REPONSE ICI ##################\n",
    "#######################################################\n",
    "\n",
    "def _get_manors_from_single_place(manors):\n",
    "    return list(map(lambda x: x['id'], manors))\n",
    "\n",
    "def get_manor_details(manor_id):\n",
    "    opendomesday_answer = requests.get(f\"https://opendomesday.org/api/1.0/manor/{manor_id}/\")\n",
    "    opendomesday_answer_json = opendomesday_answer.json()\n",
    "    return opendomesday_answer_json\n",
    "\n",
    "def get_manor_tax_and_ploughs(manor_id):\n",
    "    manor_details = get_manor_details(manor_id)\n",
    "    ploughs = manor_details[\"totalploughs\"]\n",
    "    geld = manor_details[\"geld\"]\n",
    "    return geld, ploughs\n",
    "\n",
    "\n",
    "# 1. Les champs correspondants sont :\n",
    "# Taxe : geld\n",
    "# Charrues : Totalploughs\n",
    "\n",
    "# 2.1 Récupération des identifiants des manoirs\n",
    "manors = [elem for place in places_details for elem in _get_manors_from_single_place(place['manors'])]\n",
    "print(*manors[:10])\n",
    "\n",
    "# 2.2 Extractions des Gelds et Totalploughs pour chaque manoir du Derbyshire\n",
    "manors_gelds_ploughs = [(manor_id, *get_manor_tax_and_ploughs(manor_id)) for manor_id in manors]\n",
    "\n",
    "# 3. Transform manors_gelds_ploughs into csv format\n",
    "import csv\n",
    "with open(\"manors_gelds_ploughs.csv\", \"w\") as f:\n",
    "    csv_writer = csv.writer(f)\n",
    "    csv_writer.writerow([\"manor_id\", \"geld\", \"totalploughs\"])\n",
    "    csv_writer.writerows(manors_gelds_ploughs)"
   ]
  },
  {
   "cell_type": "code",
   "execution_count": 271,
   "metadata": {},
   "outputs": [
    {
     "name": "stdout",
     "output_type": "stream",
     "text": [
      "Paye le plus cher\n",
      "manor_id        12971.0\n",
      "geld               23.0\n",
      "totalploughs        9.0\n",
      "Name: 61, dtype: float64 \n",
      "\n",
      "Possede le plus de charrues\n",
      "manor_id        13030.0\n",
      "geld                6.0\n",
      "totalploughs       19.0\n",
      "Name: 41, dtype: float64\n"
     ]
    },
    {
     "data": {
      "text/html": [
       "<div>\n",
       "<style scoped>\n",
       "    .dataframe tbody tr th:only-of-type {\n",
       "        vertical-align: middle;\n",
       "    }\n",
       "\n",
       "    .dataframe tbody tr th {\n",
       "        vertical-align: top;\n",
       "    }\n",
       "\n",
       "    .dataframe thead th {\n",
       "        text-align: right;\n",
       "    }\n",
       "</style>\n",
       "<table border=\"1\" class=\"dataframe\">\n",
       "  <thead>\n",
       "    <tr style=\"text-align: right;\">\n",
       "      <th></th>\n",
       "      <th>geld</th>\n",
       "      <th>totalploughs</th>\n",
       "    </tr>\n",
       "  </thead>\n",
       "  <tbody>\n",
       "    <tr>\n",
       "      <th>count</th>\n",
       "      <td>442.0</td>\n",
       "      <td>431.0</td>\n",
       "    </tr>\n",
       "    <tr>\n",
       "      <th>mean</th>\n",
       "      <td>5.0</td>\n",
       "      <td>5.0</td>\n",
       "    </tr>\n",
       "    <tr>\n",
       "      <th>std</th>\n",
       "      <td>5.9</td>\n",
       "      <td>4.9</td>\n",
       "    </tr>\n",
       "    <tr>\n",
       "      <th>min</th>\n",
       "      <td>0.1</td>\n",
       "      <td>0.0</td>\n",
       "    </tr>\n",
       "    <tr>\n",
       "      <th>25%</th>\n",
       "      <td>1.0</td>\n",
       "      <td>1.0</td>\n",
       "    </tr>\n",
       "    <tr>\n",
       "      <th>50%</th>\n",
       "      <td>2.0</td>\n",
       "      <td>4.0</td>\n",
       "    </tr>\n",
       "    <tr>\n",
       "      <th>75%</th>\n",
       "      <td>6.1</td>\n",
       "      <td>7.0</td>\n",
       "    </tr>\n",
       "    <tr>\n",
       "      <th>max</th>\n",
       "      <td>23.0</td>\n",
       "      <td>19.0</td>\n",
       "    </tr>\n",
       "  </tbody>\n",
       "</table>\n",
       "</div>"
      ],
      "text/plain": [
       "        geld  totalploughs\n",
       "count  442.0         431.0\n",
       "mean     5.0           5.0\n",
       "std      5.9           4.9\n",
       "min      0.1           0.0\n",
       "25%      1.0           1.0\n",
       "50%      2.0           4.0\n",
       "75%      6.1           7.0\n",
       "max     23.0          19.0"
      ]
     },
     "execution_count": 271,
     "metadata": {},
     "output_type": "execute_result"
    }
   ],
   "source": [
    "# Exercice 5\n",
    "# Quel est le manoir le plus riche du Derbyshire ?\n",
    "\n",
    "#######################################################\n",
    "################## VOTRE REPONSE ICI ##################\n",
    "#######################################################\n",
    "\n",
    "import pandas as pd\n",
    "df = pd.DataFrame(manors_gelds_ploughs, columns= [\"manor_id\", \"geld\", \"totalploughs\"])\n",
    "\n",
    "# 1. En se basant sur le montant de taxe\n",
    "# Identifiant du manoir\n",
    "paye_cher = df['geld'].argmax()\n",
    "print(\"Paye le plus cher\")\n",
    "print(df.loc[paye_cher], \"\\n\")\n",
    "\n",
    "# 2. En se basant sur le nombre de charrues\n",
    "# Identifiant du manoir\n",
    "a_beaucoup_de_charrues = df['totalploughs'].argmax()\n",
    "print(\"Possede le plus de charrues\")\n",
    "print(df.loc[a_beaucoup_de_charrues])\n",
    "\n",
    "df.describe().round(1)[['geld', 'totalploughs']]"
   ]
  },
  {
   "cell_type": "code",
   "execution_count": 273,
   "metadata": {},
   "outputs": [
    {
     "data": {
      "text/plain": [
       "2221.16"
      ]
     },
     "execution_count": 273,
     "metadata": {},
     "output_type": "execute_result"
    }
   ],
   "source": [
    "# Exercice 6\n",
    "# Donnez la valeur totale payée par le Derbyshire.\n",
    "\n",
    "#######################################################\n",
    "################## VOTRE REPONSE ICI ##################\n",
    "#######################################################\n",
    "\n",
    "# 1. Il s'agit de la somme payée par l'ensemble des manors récupérés ci-dessus\n",
    "df['geld'].sum()"
   ]
  },
  {
   "cell_type": "code",
   "execution_count": 3,
   "metadata": {},
   "outputs": [],
   "source": [
    "# Exercice 7\n",
    "# Créez une Classe Python\n",
    "# Elle doit reprendre l'ensemble des fonctionnalités précédentes\n",
    "# Refactorisez au passage votre code pour qu'il soit lisible, efficace et maintenable\n",
    "\n",
    "#######################################################\n",
    "################## VOTRE REPONSE ICI ##################\n",
    "#######################################################\n",
    "\n",
    "class County:\n",
    "\n",
    "    def __init__(self, county):\n",
    "        self.county = county\n",
    "        self.county_details = self.get_county_details()\n",
    "        self.places_ids = self.get_places_ids()\n",
    "        self.places_details = self.get_places_details()\n",
    "        self.manors_ids = self.get_manors_ids()\n",
    "        self.manors_details = self.get_manors_details()\n",
    "        self.manors_gelds_ploughs = self.get_manors_gelds_ploughs()\n",
    "        self.manors_gelds_ploughs_df = self.get_manors_gelds_ploughs_df()\n",
    "\n",
    "    def get_county_details(self):\n",
    "        opendomesday_answer = requests.get(f\"https://opendomesday.org/api/1.0/county/{self.county}/\")\n",
    "        opendomesday_answer_json = opendomesday_answer.json()\n",
    "        return opendomesday_answer_json\n",
    "    \n",
    "    def get_places_ids(self):\n",
    "        return [place[\"id\"] for place in self.county_details[\"places_in_county\"]]\n",
    "    \n",
    "    def get_places_details(self):\n",
    "        print(\"Récupération des informations des places\")\n",
    "        places_details = []\n",
    "        for i, place_id in enumerate(self.places_ids):\n",
    "            opendomesday_answer = requests.get(f\"https://opendomesday.org/api/1.0/place/{place_id}/\")\n",
    "            opendomesday_answer_json = opendomesday_answer.json()\n",
    "            places_details.append(opendomesday_answer_json)\n",
    "            if i % 10 == 0:\n",
    "                progress_bar(int(i/10), int(len(self.places_ids)/10))\n",
    "        print()\n",
    "        return places_details\n",
    "    \n",
    "    @staticmethod\n",
    "    def get_place_details(place_id):\n",
    "        opendomesday_answer = requests.get(f\"https://opendomesday.org/api/1.0/place/{place_id}/\")\n",
    "        opendomesday_answer_json = opendomesday_answer.json()\n",
    "        return opendomesday_answer_json\n",
    "    \n",
    "    def get_manors_ids(self):\n",
    "        return [elem for place in self.places_details for elem in self._get_manors_from_single_place(place['manors'])]\n",
    "    \n",
    "    @staticmethod\n",
    "    def _get_manors_from_single_place(manors):\n",
    "        return list(map(lambda x: x['id'], manors))\n",
    "    \n",
    "    @staticmethod\n",
    "    def get_manor_details(manor_id):\n",
    "        opendomesday_answer = requests.get(f\"https://opendomesday.org/api/1.0/manor/{manor_id}/\")\n",
    "        opendomesday_answer_json = opendomesday_answer.json()\n",
    "        return opendomesday_answer_json\n",
    "\n",
    "    def get_manors_details(self):\n",
    "        print(\"Récupération des informations des manors\")\n",
    "        manors_details = []\n",
    "        tot = len(self.manors_ids)\n",
    "        for i, manor_id in enumerate(self.manors_ids):\n",
    "            manor_details = self.get_manor_details(manor_id)\n",
    "            manors_details.append(manor_details)\n",
    "            if i % 10 == 0:\n",
    "                progress_bar(int(i/10), int(len(self.manors_ids)/10))\n",
    "        print()\n",
    "        return manors_details\n",
    "\n",
    "    def get_manor_tax_and_ploughs(self, manor_id):\n",
    "        manor_details = self.get_manor_details(manor_id)\n",
    "        ploughs = manor_details[\"totalploughs\"]\n",
    "        geld = manor_details[\"geld\"]\n",
    "        return geld, ploughs\n",
    "\n",
    "    def get_manors_gelds_ploughs(self):\n",
    "        print(\"Récupération des manors, gelds et ploughs\")\n",
    "        tot = len(manors)\n",
    "        for i, manor_id in enumerate(manors):\n",
    "            geld, ploughs = self.get_manor_tax_and_ploughs(manor_id)\n",
    "            manors_gelds_ploughs.append((manor_id, geld, ploughs))\n",
    "            if i % 10 == 0:\n",
    "                progress_bar(int(i/10), int(tot/10))\n",
    "        print()\n",
    "        return manors_gelds_ploughs\n",
    "        \n",
    "    def get_manors_gelds_ploughs_df(self):\n",
    "        df = pd.DataFrame(self.manors_gelds_ploughs, columns= [\"manor_id\", \"geld\", \"totalploughs\"])\n",
    "        return df"
   ]
  },
  {
   "cell_type": "code",
   "execution_count": 384,
   "metadata": {},
   "outputs": [
    {
     "name": "stdout",
     "output_type": "stream",
     "text": [
      "Récupération des informations des places\n",
      "[████████████████████████████████████] 100.00% CompleteRécupération des informations des manors\n",
      "[█████████████████████████████████████████████] 100.00% CompleteRécupération des manors, gelds et ploughs\n",
      "[█████████████████████████████████████████████] 100.00% Complete"
     ]
    }
   ],
   "source": [
    "derbyshire = County(\"dby\")"
   ]
  },
  {
   "cell_type": "markdown",
   "metadata": {},
   "source": [
    "## Exercice traitement des codes d'erreurs"
   ]
  },
  {
   "cell_type": "code",
   "execution_count": 110,
   "metadata": {},
   "outputs": [],
   "source": [
    "# Exercice 1\n",
    "# Ajoutez à votre classe un système de traitement des erreurs\n",
    "# Elle doit gérer les erreurs suivantes:\n",
    "# - Erreur de connexion\n",
    "# - Erreur de parsing\n",
    "# - Erreur de requête\n",
    "# - Erreur de réponse\n",
    "# - Erreur de paramètres\n",
    "\n",
    "#######################################################\n",
    "################## VOTRE REPONSE ICI ##################\n",
    "#######################################################\n",
    "\n",
    "from time import time\n",
    "\n",
    "def handle_http_errors(func):\n",
    "    def wrapper(*args, **kwargs):\n",
    "        try:\n",
    "            answer = func(*args, **kwargs)\n",
    "            answer.raise_for_status()\n",
    "            return answer\n",
    "        except requests.exceptions.ConnectionError as e:\n",
    "            raise ConnectionError(\"|| Erreur de connexion ||\")\n",
    "        except requests.exceptions.Timeout as e:\n",
    "            raise TimeoutError(\"|| Inaccessible, Timeout ||\")\n",
    "        except requests.exceptions.HTTPError as e:\n",
    "            _handdle_http_status_errors(answer.status_code, e, *args)\n",
    "    return wrapper\n",
    "\n",
    "\n",
    "def _handdle_http_status_errors(http_status, e, *args):\n",
    "    if http_status == 404:\n",
    "        raise NameError(f\"|| Erreur: '{args[1]}' n'existe pas ||\")\n",
    "    else:\n",
    "        raise e\n",
    "\n",
    "\n",
    "class CountyErrors:\n",
    "\n",
    "    def __init__(self, county):\n",
    "        self.county = county\n",
    "        self.county_details = self.get_county_details(county)\n",
    "        \n",
    "    \n",
    "    # || GESTION ERREUR DE PARAMETRE & DE REPONSE ||\n",
    "    # ===============================================================================\n",
    "    \n",
    "    # Modification de la fonction **get_county_details**\n",
    "    # On simplifie la fonction pour qu'elle soit lisible et maintenable\n",
    "    # Et qu'elle permette de gérer les erreurs via un décorateur\n",
    "    # Il faut cependant qu'elle renvoie la même réponse qu'avant\n",
    "    # On utilise donc une fonction privée pour faire la requête\n",
    "    # Et une fonction publique pour parser la réponse\n",
    "    # On passe \"county\" en paramètre de la fonction pour pour enrichir\n",
    "    # l'erreur en cas de county non reconnu, et pour pouvoir unit-tester la fonction\n",
    "\n",
    "    @handle_http_errors\n",
    "    def _get_county_details(self, county):\n",
    "        return requests.get(f\"https://opendomesday.org/api/1.0/county/{county}/\")\n",
    "    \n",
    "    def get_county_details(self, county):\n",
    "        return self._get_county_details(county).json()\n",
    "\n",
    "    # ===============================================================================\n",
    "\n",
    "\n",
    "\n",
    "    # || GESTION ERREUR DE REQUETE ||\n",
    "    # ===============================================================================\n",
    "    \n",
    "    # Fonctions additionnelles pour démontrer la gestion des erreurs de requête\n",
    "    # via le décorateur handle_http_errors\n",
    "\n",
    "    @handle_http_errors\n",
    "    def connection_error_function(self):\n",
    "        return requests.get(f\"https://foo.org/\")\n",
    "    \n",
    "    @handle_http_errors\n",
    "    def timeout_error_function(self):\n",
    "        return requests.get(f\"https://httpstat.us/200?sleep=5000\", timeout=2)"
   ]
  },
  {
   "cell_type": "code",
   "execution_count": null,
   "metadata": {},
   "outputs": [],
   "source": [
    "# County qui n'existe pas, doit lever l'erreur \"NameError: Erreur: 'dfy' n'existe pas\"\n",
    "# Ainsi que l'ensemble du Traceback jusqu'à l'erreur HTTPError\n",
    "\n",
    "# Sans décorateur, la fonction ne lève pas d'erreur\n",
    "# Et le code continue à s'exécuter jusqu'à ce qu'il échoue lors de l'utilisation des données\n",
    "# Qui sont censées avoir été récupérées par la fonction.\n",
    "\n",
    "# L'erreur levée serait: \"KeyError: 'places_in_county'\"\n",
    "# Cela serait une très mauvaise pratique car cela rendrait le code opaque et difficile à débugger\n",
    "test_param_error = CountyErrors('dfy')"
   ]
  },
  {
   "cell_type": "code",
   "execution_count": null,
   "metadata": {},
   "outputs": [],
   "source": [
    "test_connection_error = CountyErrors('dby')\n",
    "test_connection_error.connection_error_function()"
   ]
  },
  {
   "cell_type": "code",
   "execution_count": null,
   "metadata": {},
   "outputs": [],
   "source": [
    "test_connection_error = CountyErrors('dby')\n",
    "test_connection_error.timeout_error_function()"
   ]
  }
 ],
 "metadata": {
  "kernelspec": {
   "display_name": "api",
   "language": "python",
   "name": "python3"
  },
  "language_info": {
   "codemirror_mode": {
    "name": "ipython",
    "version": 3
   },
   "file_extension": ".py",
   "mimetype": "text/x-python",
   "name": "python",
   "nbconvert_exporter": "python",
   "pygments_lexer": "ipython3",
   "version": "3.11.6"
  }
 },
 "nbformat": 4,
 "nbformat_minor": 2
}
