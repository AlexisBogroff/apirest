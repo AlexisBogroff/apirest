{
 "cells": [
  {
   "cell_type": "markdown",
   "metadata": {},
   "source": [
    "# Les APIs REST avec Python"
   ]
  },
  {
   "cell_type": "markdown",
   "metadata": {},
   "source": [
    "## Création API REST avec Flask"
   ]
  },
  {
   "cell_type": "markdown",
   "metadata": {},
   "source": [
    "### Installation\n",
    "Transformer la cellule Markdown en cellule de code pour exécuter la partie qui correspond à votre setup"
   ]
  },
  {
   "cell_type": "markdown",
   "metadata": {},
   "source": [
    "```python\n",
    "# Pipy\n",
    "!pip install Flask\n",
    "# Conda\n",
    "!conda install -c anaconda flask\n",
    "```"
   ]
  },
  {
   "cell_type": "markdown",
   "metadata": {},
   "source": [
    "Exemple minimaliste"
   ]
  },
  {
   "cell_type": "code",
   "execution_count": null,
   "metadata": {},
   "outputs": [],
   "source": [
    "from flask import Flask\n",
    "\n",
    "app = Flask(__name__)\n",
    "\n",
    "@app.route(\"/\")\n",
    "def hello_world():\n",
    "    return \"<p>Hello, World!</p>\"\n",
    "\n",
    "#app.run()"
   ]
  },
  {
   "cell_type": "markdown",
   "metadata": {},
   "source": [
    "### Configuration de Flask\n",
    "Différentes manières de configurer, paramètres basiques pour l'instant"
   ]
  },
  {
   "cell_type": "code",
   "execution_count": null,
   "metadata": {},
   "outputs": [],
   "source": [
    "# Méthode 1: Configuration directe\n",
    "app.config['DEBUG'] = True\n",
    "app.config['SECRET_KEY'] = 'un_secret_très_sécurisé'\n",
    "\n",
    "# Méthode 2: Configuration à partir d'une classe séparée\n",
    "class Config(object):\n",
    "    DEBUG = True\n",
    "    SECRET_KEY = 'un_secret_très_sécurisé'\n",
    "\n",
    "app.config.from_object(Config)\n",
    "\n",
    "# Méthode 3: Configuration à partir d'un fichier CFG\n",
    "app.config.from_pyfile('config/config.cfg')\n",
    "\n",
    "# Méthode 4: Configuration à partir de variables d'environnement\n",
    "import os\n",
    "app.config['DEBUG'] = os.environ.get('DEBUG', False)\n",
    "app.config['SECRET_KEY'] = os.environ.get('SECRET_KEY', 'un_secret_très_sécurisé')\n",
    "\n",
    "# Méthode 5: Configuration à partir d'un fichier JSON\n",
    "import json\n",
    "with open('config/config.json') as f:\n",
    "    app.config.update(json.load(f))"
   ]
  },
  {
   "cell_type": "markdown",
   "metadata": {},
   "source": [
    "### Définition des routes\n",
    "Ajout de routes basiques"
   ]
  },
  {
   "cell_type": "code",
   "execution_count": 29,
   "metadata": {},
   "outputs": [],
   "source": [
    "# Route basique\n",
    "@app.route('/login')\n",
    "def login():\n",
    "    return 'login'\n",
    "\n",
    "# Route avec paramètre (variable)\n",
    "@app.route('/user/<username>')\n",
    "def profile(username):\n",
    "    return f'{username}\\'s profile'\n",
    "\n",
    "# Route avec paramètre converti / casté (en int)\n",
    "@app.route('/post/<int:post_id>')\n",
    "def show_post(post_id):\n",
    "    return f'Post {post_id}'"
   ]
  },
  {
   "cell_type": "markdown",
   "metadata": {},
   "source": [
    "### Définition des méthodes\n",
    "Création des fonctions à l'aide des décorateurs de route"
   ]
  },
  {
   "cell_type": "code",
   "execution_count": null,
   "metadata": {},
   "outputs": [],
   "source": [
    "# GET\n",
    "@app.route('/get_example')\n",
    "def get_example():\n",
    "    return \"Ceci est une réponse de GET!\"\n",
    "\n",
    "# POST\n",
    "from flask import request\n",
    "@app.route('/post_example', methods=['POST'])\n",
    "def post_example():\n",
    "    # Traitement des données envoyées (données brutes)\n",
    "    return request.args.get('keyword')\n",
    "\n",
    "# GET et POST (classique pour un formulaire)\n",
    "@app.route('/multi_method', methods=['GET', 'POST'])\n",
    "def multi_method():\n",
    "    if request.method == 'POST':\n",
    "        # Traitement des données envoyées (données de formulaire)\n",
    "        return request.form['name']\n",
    "    else:\n",
    "        # GET par défaut\n",
    "        return \"Renvoi du formulaire\"\n",
    "\n",
    "# PUT\n",
    "@app.route('/update_item', methods=['PUT'])\n",
    "def update_item():\n",
    "    # Code pour mettre à jour un élément\n",
    "    return \"Élément mis à jour\"\n",
    "\n",
    "# DELETE\n",
    "@app.route('/delete_item', methods=['DELETE'])\n",
    "def delete_item():\n",
    "    # Code pour supprimer un élément\n",
    "    return \"Élément supprimé\"\n"
   ]
  },
  {
   "cell_type": "markdown",
   "metadata": {},
   "source": [
    "### Définition des réponses"
   ]
  },
  {
   "cell_type": "code",
   "execution_count": null,
   "metadata": {},
   "outputs": [],
   "source": [
    "# Renvoi d'une réponse simple\n",
    "@app.route('/')\n",
    "def home():\n",
    "    return \"Bienvenue sur ma page d'accueil!\"\n",
    "\n",
    "# Utilisation de make_response pratique pour ajouter \n",
    "# des éléments (code, headers, etc.) à une réponse pré-existante \n",
    "from flask import make_response\n",
    "@app.route('/custom')\n",
    "def custom_response():\n",
    "    resp = make_response(\"Contenu personnalisé\", 202)\n",
    "    resp.headers['X-Something'] = 'Valeur'\n",
    "    return resp\n",
    "\n",
    "# Renvoi d'un objet Response avec la classe Response\n",
    "# Permet un contrôle direct et complet sur les données\n",
    "# de réponse, statut HTTP, en-têtes, cookies, etc.\n",
    "from flask import Response\n",
    "@app.route('/response')\n",
    "def response_example():\n",
    "    return Response(\"Contenu complet\", status=200, headers={'Content-Type': 'text/plain'})\n",
    "\n",
    "# Renvoi d'un JSON\n",
    "from flask import jsonify\n",
    "@app.route('/json')\n",
    "def json_example():\n",
    "    return jsonify({'key': 'value', 'listKey': [1, 2, 3]})\n",
    "\n",
    "# Utilisation de templates (pages HTML)\n",
    "# Nécessaire pour créer un site web\n",
    "from flask import render_template\n",
    "@app.route('/template')\n",
    "def template_example():\n",
    "    return render_template('template.html', variable='valeur')\n",
    "\n",
    "# Gestions et renvoi de messages d'erreurs\n",
    "@app.errorhandler(404)\n",
    "def page_not_found(error):\n",
    "    return \"Cette page n'a pas été trouvée\", 404\n",
    "\n",
    "# Streaming\n",
    "from flask import stream_with_context\n",
    "@app.route('/stream')\n",
    "def stream_example():\n",
    "    def generate():\n",
    "        yield 'Hello '\n",
    "        yield 'World!'\n",
    "    return Response(stream_with_context(generate()))\n",
    "\n",
    "# Redirection vers une autre page\n",
    "from flask import redirect\n",
    "@app.route('/redirect')\n",
    "def redirect_example():\n",
    "    return redirect('/')\n",
    "\n",
    "# Redirection vers une autre page avec url_for\n",
    "# Permet de ne pas avoir à écrire l'URL en dur\n",
    "# Nécessite d'avoir défini les routes avec un nom\n",
    "# Exemple: app.route('/', name='home')\n",
    "# Nécessaire pour créer un site web\n",
    "from flask import url_for\n",
    "@app.route('/redirect')\n",
    "def redirect_example():\n",
    "    return redirect(url_for('home'))\n"
   ]
  },
  {
   "cell_type": "markdown",
   "metadata": {},
   "source": [
    "## Consommation des APIs REST avec Python"
   ]
  },
  {
   "cell_type": "markdown",
   "metadata": {},
   "source": [
    "### Utilisation de la bibliothèque requests"
   ]
  },
  {
   "cell_type": "code",
   "execution_count": 1,
   "metadata": {},
   "outputs": [],
   "source": [
    "# Communiquer avec l'API \"example_3_basic_api_items.py\"\n",
    "import requests"
   ]
  },
  {
   "cell_type": "code",
   "execution_count": 28,
   "metadata": {},
   "outputs": [
    {
     "name": "stdout",
     "output_type": "stream",
     "text": [
      "<Response [201]>\n",
      "{'data': {'tomate': 3}, 'name': 'tomate'}\n"
     ]
    }
   ],
   "source": [
    "# POST\n",
    "item_name = 'tomate'\n",
    "new_item = requests.post(f'http://localhost:5000/item/{item_name}', json={item_name: 3})\n",
    "print(new_item)\n",
    "print(new_item.json())"
   ]
  },
  {
   "cell_type": "code",
   "execution_count": 29,
   "metadata": {},
   "outputs": [
    {
     "name": "stdout",
     "output_type": "stream",
     "text": [
      "<Response [200]>\n",
      "{'data': {'tomate': 3}, 'name': 'tomate'}\n"
     ]
    }
   ],
   "source": [
    "# GET\n",
    "item_1 = requests.get(f'http://localhost:5000/item/{item_name}')\n",
    "print(item_1)\n",
    "try:\n",
    "    print(item_1.json())\n",
    "except:\n",
    "    print('not found')"
   ]
  },
  {
   "cell_type": "code",
   "execution_count": 18,
   "metadata": {},
   "outputs": [
    {
     "name": "stdout",
     "output_type": "stream",
     "text": [
      "<Response [200]>\n",
      "{'data': {'courgette': 300}, 'name': 'courgette'}\n"
     ]
    }
   ],
   "source": [
    "# PUT\n",
    "update_item = requests.put('http://localhost:5000/item/courgette', json={'courgette': 300})\n",
    "print(update_item)\n",
    "print(update_item.json())"
   ]
  },
  {
   "cell_type": "code",
   "execution_count": 30,
   "metadata": {},
   "outputs": [
    {
     "name": "stdout",
     "output_type": "stream",
     "text": [
      "<Response [200]>\n",
      "{'patate': {'data': {'patate': 10}, 'name': 'patate'}, 'tomate': {'data': {'tomate': 3}, 'name': 'tomate'}}\n"
     ]
    }
   ],
   "source": [
    "# GET sur tous les items\n",
    "items = requests.get('http://localhost:5000/items')\n",
    "print(items)\n",
    "print(items.json())"
   ]
  },
  {
   "cell_type": "markdown",
   "metadata": {},
   "source": [
    "### Gestion des réponses"
   ]
  },
  {
   "cell_type": "code",
   "execution_count": null,
   "metadata": {},
   "outputs": [],
   "source": []
  },
  {
   "cell_type": "markdown",
   "metadata": {},
   "source": [
    "### Gestion des erreurs"
   ]
  },
  {
   "cell_type": "code",
   "execution_count": null,
   "metadata": {},
   "outputs": [],
   "source": []
  },
  {
   "cell_type": "markdown",
   "metadata": {},
   "source": [
    "## Cyber problèmes"
   ]
  },
  {
   "cell_type": "markdown",
   "metadata": {},
   "source": [
    "### SQL Injection et Cross-Site Scripting (XSS)\n",
    "\n",
    "Solution: utiliser `escape`"
   ]
  },
  {
   "cell_type": "code",
   "execution_count": null,
   "metadata": {},
   "outputs": [],
   "source": [
    "# Puisque l'utilisateur peut entrer n'importe quoi dans l'URL\n",
    "# il est important de filtrer les paramètres avec 'escape'\n",
    "\n",
    "from markupsafe import escape\n",
    "@app.route(\"/<name>\")\n",
    "def hello(name):\n",
    "    return f\"Hello, {escape(name)}!\""
   ]
  },
  {
   "cell_type": "markdown",
   "metadata": {},
   "source": [
    "Ce qu'il ne faut pas faire"
   ]
  },
  {
   "cell_type": "code",
   "execution_count": null,
   "metadata": {},
   "outputs": [],
   "source": [
    "@app.route('/search', methods=['GET'])\n",
    "def search():\n",
    "    user_name = request.args.get('username')\n",
    "    query = \"SELECT email FROM users WHERE name = '\" + user_name + \"'\"  # Non sécurisé\n",
    "    cursor = get_db().execute(query)\n",
    "    result = cursor.fetchone()\n",
    "    cursor.close()\n",
    "    if result:\n",
    "        return \"L'adresse email de l'utilisateur est : \" + result[0]\n",
    "    else:\n",
    "        return \"Utilisateur non trouvé\""
   ]
  },
  {
   "cell_type": "markdown",
   "metadata": {},
   "source": [
    "L'attaquant peut simplement entrer dans l'URL:\n",
    "```bash\n",
    "http://127.0.0.1:5000/search?username=' OR '1'='1\n",
    "```\n",
    "\n",
    "La requête serait donc interprétée en:\n",
    "```sql\n",
    "SELECT email FROM users WHERE name = '' OR '1'='1'\n",
    "```\n",
    "\n",
    "Comme la condition '1'='1' est toujours vraie, la requête renverra les adresses mail **de tous les utilisateurs** de la base de données"
   ]
  },
  {
   "cell_type": "markdown",
   "metadata": {},
   "source": [
    "Ce qu'il faut faire"
   ]
  },
  {
   "cell_type": "code",
   "execution_count": null,
   "metadata": {},
   "outputs": [],
   "source": [
    "@app.route('/search', methods=['GET'])\n",
    "def search_secure():\n",
    "    user_name = request.args.get('username')\n",
    "    query = \"SELECT email FROM users WHERE name = ?\"\n",
    "    cursor = get_db().execute(query, (user_name,))\n",
    "    result = cursor.fetchone()\n",
    "    cursor.close()\n",
    "    if result:\n",
    "        return \"L'adresse email de l'utilisateur est : \" + result[0]\n",
    "    else:\n",
    "        return \"Utilisateur non trouvé\""
   ]
  },
  {
   "cell_type": "markdown",
   "metadata": {},
   "source": [
    "Flask et son moteur de templating Jinja2 appliquent automatiquement **l'échappement des caractères** pour prévenir les attaques XSS (et injection SQL). Quand vous utilisez {{ variable }} dans un template Jinja2, Flask **convertit automatiquement** tous les **caractères dangereux** en entités **HTML**. Cela empêche l'interprétation de ces caractères comme du code lorsqu'ils sont affichés dans le navigateur de l'utilisateur."
   ]
  },
  {
   "cell_type": "markdown",
   "metadata": {},
   "source": [
    "## Mise à disposition"
   ]
  },
  {
   "cell_type": "markdown",
   "metadata": {},
   "source": [
    "Mise à disposition pour l'ensemble des appareils sur le réseau\n",
    "```\n",
    "flask --app hello_world run --host=0.0.0.0\n",
    "flask --app hello run --debug\n",
    "```"
   ]
  }
 ],
 "metadata": {
  "kernelspec": {
   "display_name": "apirest",
   "language": "python",
   "name": "python3"
  },
  "language_info": {
   "codemirror_mode": {
    "name": "ipython",
    "version": 3
   },
   "file_extension": ".py",
   "mimetype": "text/x-python",
   "name": "python",
   "nbconvert_exporter": "python",
   "pygments_lexer": "ipython3",
   "version": "3.11.6"
  }
 },
 "nbformat": 4,
 "nbformat_minor": 2
}
