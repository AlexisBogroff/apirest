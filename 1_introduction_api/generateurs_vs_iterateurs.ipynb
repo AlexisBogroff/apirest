{
 "cells": [
  {
   "cell_type": "markdown",
   "metadata": {},
   "source": [
    "# Generator vs Iterator"
   ]
  },
  {
   "cell_type": "markdown",
   "metadata": {},
   "source": [
    "Quelle différences entre générateurs et iterateurs ?\n",
    "- Constatez par vous même en lançant les deux cellules suivantes"
   ]
  },
  {
   "cell_type": "code",
   "execution_count": 1,
   "metadata": {},
   "outputs": [],
   "source": [
    "gen = (i for i in range(int(10e230)))"
   ]
  },
  {
   "cell_type": "code",
   "execution_count": 3,
   "metadata": {},
   "outputs": [],
   "source": [
    "iter = [i for i in range(int(50e7))]"
   ]
  },
  {
   "cell_type": "markdown",
   "metadata": {},
   "source": [
    "Résultat\n",
    "- Le générateur s'est instancié instantanément\n",
    "- L'itérateur a pris 11.3s (sur mon ordinateur) pour se créer\n",
    "\n",
    "Pourquoi\n",
    "- Le générateur est une fonction, prête à l'emploi, rien ne s'est produit si ce n'est pas prise de connaissance de cette fonction qui a été stockée sous le nom de variable \"gen\"\n",
    "- L'itérateur à l'inverse a créé et stocké en mémoire l'ensemble des valeurs demandées. Cela a pris du temps car nous en avons demandé beaucoup, et cela prend énormément de place."
   ]
  },
  {
   "cell_type": "code",
   "execution_count": 14,
   "metadata": {},
   "outputs": [],
   "source": [
    "iter[103920483] = \"ma_valeur\""
   ]
  },
  {
   "cell_type": "code",
   "execution_count": 15,
   "metadata": {},
   "outputs": [
    {
     "name": "stdout",
     "output_type": "stream",
     "text": [
      "ma_valeur\n"
     ]
    }
   ],
   "source": [
    "print(iter[103920483])"
   ]
  },
  {
   "cell_type": "markdown",
   "metadata": {},
   "source": [
    "- Puisque l'itérateur a créé et stocké toutes ces valeurs dans une liste, il est donc possible d'accéder (iter[id]) et de modifier chacunes des valeurs en fonction de leur position dans l'immense liste.\n",
    "- Ceci est impossible et n'a aucun sens pour un générateur. Pour faire de même il faudrat d'abord demander au générateur de créer l'ensemble des valeurs. Cela reviendrait à lui demander de faire le travail d'un itérateur."
   ]
  },
  {
   "cell_type": "markdown",
   "metadata": {},
   "source": [
    "- Le générator est ce que l'on appelle en informatique \"lazy\", c'est à dire qu'il ne calcule pas les valeurs tant qu'on ne lui demande pas. C'est pour cela que l'on peut créer des générateurs infinis.\n",
    "- L'itérateur est ce que l'on appelle en informatique \"eager\", c'est à dire qu'il calcule toutes les valeurs dès sa création. C'est pour cela que l'on ne peut pas créer d'itérateurs infinis."
   ]
  },
  {
   "cell_type": "markdown",
   "metadata": {},
   "source": [
    "Quand utiliser l'un ou l'autre ? (liste non )\n",
    "\n",
    "Itérateurs\n",
    "- Si vous avez besoin de stocker des données pour qu'elles soient accessibles en fonction de leur index, utilisez un itérateur pour générer cette liste\n",
    "- Le cas d'usage le plus fréquent est **d'itérer sur une liste** ou tout autre objet qui **est déjà créée**. Ces objets sont des itérateurs (listes, dictionnaires, sets, fichiers, etc.).\n",
    "\n",
    "Générateurs\n",
    "- Générateurs lors d'un travail sur de (très) gros volumes de données\n",
    "- Si vous avez besoin de générer des données à la volée pour économiser de la mémoire\n",
    "- Si les données arrivent en flux (stream)"
   ]
  }
 ],
 "metadata": {
  "kernelspec": {
   "display_name": "eda",
   "language": "python",
   "name": "python3"
  },
  "language_info": {
   "codemirror_mode": {
    "name": "ipython",
    "version": 3
   },
   "file_extension": ".py",
   "mimetype": "text/x-python",
   "name": "python",
   "nbconvert_exporter": "python",
   "pygments_lexer": "ipython3",
   "version": "3.9.18"
  }
 },
 "nbformat": 4,
 "nbformat_minor": 2
}
