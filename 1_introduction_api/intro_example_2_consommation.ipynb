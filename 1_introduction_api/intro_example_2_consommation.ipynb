{
 "cells": [
  {
   "cell_type": "markdown",
   "metadata": {},
   "source": [
    "# Consommer l'API de l'example 2"
   ]
  },
  {
   "cell_type": "code",
   "execution_count": 1,
   "metadata": {},
   "outputs": [],
   "source": [
    "import requests"
   ]
  },
  {
   "cell_type": "code",
   "execution_count": 3,
   "metadata": {},
   "outputs": [
    {
     "name": "stdout",
     "output_type": "stream",
     "text": [
      "<Response [200]>\n",
      "<p>Hello, World!</p>\n"
     ]
    }
   ],
   "source": [
    "# GET sans spécifier l'URI\n",
    "answer = requests.get(f'http://localhost:5000/')\n",
    "print(answer)\n",
    "print(answer.text)"
   ]
  },
  {
   "cell_type": "code",
   "execution_count": 4,
   "metadata": {},
   "outputs": [
    {
     "name": "stdout",
     "output_type": "stream",
     "text": [
      "<Response [200]>\n",
      "login\n"
     ]
    }
   ],
   "source": [
    "# GET sur la route \"login\"\n",
    "answer = requests.get(f'http://localhost:5000/login')\n",
    "print(answer.text)"
   ]
  },
  {
   "cell_type": "code",
   "execution_count": 6,
   "metadata": {},
   "outputs": [
    {
     "name": "stdout",
     "output_type": "stream",
     "text": [
      "<Response [200]>\n",
      "thomas's profile\n"
     ]
    }
   ],
   "source": [
    "# GET sur la route \"user\" avec un paramètre\n",
    "answer = requests.get(f'http://localhost:5000/user/thomas')\n",
    "print(answer.text)"
   ]
  },
  {
   "cell_type": "code",
   "execution_count": 13,
   "metadata": {},
   "outputs": [
    {
     "name": "stdout",
     "output_type": "stream",
     "text": [
      "Thomas is 12 years old\n"
     ]
    }
   ],
   "source": [
    "# GET sur la route \"ht_to_ttc\" avec un paramètre casté en int\n",
    "username = 'Thomas'\n",
    "age = 12\n",
    "answer = requests.get(f'http://localhost:5000/user/{username}/{age}')\n",
    "print(answer.text)"
   ]
  },
  {
   "cell_type": "code",
   "execution_count": 19,
   "metadata": {},
   "outputs": [
    {
     "name": "stdout",
     "output_type": "stream",
     "text": [
      "Thomas is 120 tall and weighs 30\n",
      "Thomas is 120 tall\n"
     ]
    }
   ],
   "source": [
    "# GET sur la route \"/user/<username>/<int:size>/<int:weight>\"\n",
    "# Pour laquelle weight est défini comme paramètre optionnel\n",
    "username = 'Thomas'\n",
    "size = 120\n",
    "weight = 30\n",
    "\n",
    "answer = requests.get(f'http://localhost:5000/user/optn/{username}/{size}/{weight}')\n",
    "print(answer.text)\n",
    "\n",
    "answer = requests.get(f'http://localhost:5000/user/optn/{username}/{size}')\n",
    "print(answer.text)"
   ]
  },
  {
   "cell_type": "code",
   "execution_count": 29,
   "metadata": {},
   "outputs": [
    {
     "name": "stdout",
     "output_type": "stream",
     "text": [
      "Page du blog 1\n",
      "Page du blog 12\n"
     ]
    }
   ],
   "source": [
    "# Parametre optionnel avec valeur par défaut\n",
    "page = 12\n",
    "\n",
    "answer = requests.get(f'http://localhost:5000/blog/page')\n",
    "print(answer.text)\n",
    "\n",
    "answer = requests.get(f'http://localhost:5000/blog/page/{page}')\n",
    "print(answer.text)"
   ]
  },
  {
   "cell_type": "code",
   "execution_count": null,
   "metadata": {},
   "outputs": [],
   "source": [
    "@app.route('/blog', defaults={'page': 1})\n",
    "@app.route('/blog/page/<int:page>')\n",
    "def blog(page):\n",
    "    return f'Page du blog {page}'"
   ]
  }
 ],
 "metadata": {
  "kernelspec": {
   "display_name": "apirest",
   "language": "python",
   "name": "python3"
  },
  "language_info": {
   "codemirror_mode": {
    "name": "ipython",
    "version": 3
   },
   "file_extension": ".py",
   "mimetype": "text/x-python",
   "name": "python",
   "nbconvert_exporter": "python",
   "pygments_lexer": "ipython3",
   "version": "3.11.6"
  }
 },
 "nbformat": 4,
 "nbformat_minor": 2
}
