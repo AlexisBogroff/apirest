{
 "cells": [
  {
   "cell_type": "markdown",
   "metadata": {},
   "source": [
    "# Call API "
   ]
  },
  {
   "cell_type": "code",
   "execution_count": 1,
   "metadata": {},
   "outputs": [],
   "source": [
    "import requests"
   ]
  },
  {
   "cell_type": "code",
   "execution_count": 5,
   "metadata": {},
   "outputs": [
    {
     "name": "stdout",
     "output_type": "stream",
     "text": [
      "200\n",
      "{\n",
      "  \"item0\": {\n",
      "    \"data\": {\n",
      "      \"price\": 8\n",
      "    },\n",
      "    \"name\": \"item0\"\n",
      "  },\n",
      "  \"item1\": {\n",
      "    \"data\": {\n",
      "      \"price\": 8\n",
      "    },\n",
      "    \"name\": \"item1\"\n",
      "  },\n",
      "  \"item2\": {\n",
      "    \"data\": {\n",
      "      \"price\": 10\n",
      "    },\n",
      "    \"name\": \"item2\"\n",
      "  },\n",
      "  \"item3\": {\n",
      "    \"data\": {\n",
      "      \"price\": 9\n",
      "    },\n",
      "    \"name\": \"item3\"\n",
      "  },\n",
      "  \"item4\": {\n",
      "    \"data\": {\n",
      "      \"price\": 10\n",
      "    },\n",
      "    \"name\": \"item4\"\n",
      "  },\n",
      "  \"item5\": {\n",
      "    \"data\": {\n",
      "      \"price\": 6\n",
      "    },\n",
      "    \"name\": \"item5\"\n",
      "  },\n",
      "  \"item6\": {\n",
      "    \"data\": {\n",
      "      \"price\": 6\n",
      "    },\n",
      "    \"name\": \"item6\"\n",
      "  },\n",
      "  \"item7\": {\n",
      "    \"data\": {\n",
      "      \"price\": 7\n",
      "    },\n",
      "    \"name\": \"item7\"\n",
      "  },\n",
      "  \"item8\": {\n",
      "    \"data\": {\n",
      "      \"price\": 6\n",
      "    },\n",
      "    \"name\": \"item8\"\n",
      "  },\n",
      "  \"item9\": {\n",
      "    \"data\": {\n",
      "      \"price\": 3\n",
      "    },\n",
      "    \"name\": \"item9\"\n",
      "  }\n",
      "}\n",
      "\n"
     ]
    }
   ],
   "source": [
    "# Générer des données aléatoires\n",
    "r = requests.get(\"http://localhost:5000/generate_data\")\n",
    "print(r.status_code)\n",
    "print(r.text)"
   ]
  },
  {
   "cell_type": "code",
   "execution_count": 6,
   "metadata": {},
   "outputs": [
    {
     "name": "stdout",
     "output_type": "stream",
     "text": [
      "<Response [200]>\n",
      "{'total_price': 73}\n"
     ]
    }
   ],
   "source": [
    "# Get le prix total du panier à l'URI /total_price\n",
    "price = requests.get('http://localhost:5000/total_price')\n",
    "print(price)\n",
    "print(price.json())"
   ]
  }
 ],
 "metadata": {
  "kernelspec": {
   "display_name": "eda",
   "language": "python",
   "name": "python3"
  },
  "language_info": {
   "codemirror_mode": {
    "name": "ipython",
    "version": 3
   },
   "file_extension": ".py",
   "mimetype": "text/x-python",
   "name": "python",
   "nbconvert_exporter": "python",
   "pygments_lexer": "ipython3",
   "version": "3.11.6"
  }
 },
 "nbformat": 4,
 "nbformat_minor": 2
}
