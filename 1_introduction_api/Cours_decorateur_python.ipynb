{
 "cells": [
  {
   "cell_type": "markdown",
   "metadata": {},
   "source": [
    "# Explications Additionnelles"
   ]
  },
  {
   "cell_type": "markdown",
   "metadata": {},
   "source": [
    "## Décorateurs Python"
   ]
  },
  {
   "cell_type": "code",
   "execution_count": 36,
   "metadata": {},
   "outputs": [],
   "source": [
    "import time"
   ]
  },
  {
   "cell_type": "code",
   "execution_count": 37,
   "metadata": {},
   "outputs": [],
   "source": [
    "# Fonction pour laquelle on veut mesurer le temps d'exécution\n",
    "def fonction(n):\n",
    "    for i in range(n * 1000000):\n",
    "        n = n + i\n",
    "    return n"
   ]
  },
  {
   "cell_type": "markdown",
   "metadata": {},
   "source": [
    "### Version 1 : mesure du temps d'exécution sans fonction"
   ]
  },
  {
   "cell_type": "code",
   "execution_count": 38,
   "metadata": {},
   "outputs": [
    {
     "name": "stdout",
     "output_type": "stream",
     "text": [
      "Temps d'exécution: 2.24 secondes\n",
      "Résultat fonction: 3199999960000080\n"
     ]
    }
   ],
   "source": [
    "# Basic implementation : décoration de part et d'autres de la fonction\n",
    "t_start = time.time()\n",
    "\n",
    "result = fonction(80)\n",
    "\n",
    "t_end = time.time()\n",
    "t_total = t_end - t_start\n",
    "print(f\"Temps d'exécution: {round(t_total, 2)} secondes\")\n",
    "print(f\"Résultat fonction: {result}\")"
   ]
  },
  {
   "cell_type": "markdown",
   "metadata": {},
   "source": [
    "### Version 2 : utilisation d'une fonction"
   ]
  },
  {
   "cell_type": "code",
   "execution_count": 39,
   "metadata": {},
   "outputs": [],
   "source": [
    "# Implémentation intermédiaire : utilisation d'une fonction pour mesurer le temps\n",
    "def measure_time(func, *args):\n",
    "    t_start = time.time()\n",
    "\n",
    "    result = func(*args)\n",
    "    \n",
    "    t_end = time.time()\n",
    "    t_total = t_end - t_start\n",
    "    print(f\"Temps d'exécution: {round(t_total, 2)} secondes\")\n",
    "    return result"
   ]
  },
  {
   "cell_type": "code",
   "execution_count": 40,
   "metadata": {},
   "outputs": [
    {
     "name": "stdout",
     "output_type": "stream",
     "text": [
      "Temps d'exécution: 2.19 secondes\n",
      "Résultat fonction: 3199999960000080\n"
     ]
    }
   ],
   "source": [
    "result = measure_time(fonction, 80)\n",
    "print(f\"Résultat fonction: {result}\")"
   ]
  },
  {
   "cell_type": "markdown",
   "metadata": {},
   "source": [
    "### Version 3 : utilisation d'une fonction décoratrice"
   ]
  },
  {
   "cell_type": "code",
   "execution_count": 41,
   "metadata": {},
   "outputs": [],
   "source": [
    "# Implementation plus intéressante : décoration de la fonction\n",
    "def timer(func):\n",
    "    def wrapper(*args):\n",
    "        t_start = time.time()\n",
    "        result = func(*args)\n",
    "        t_end = time.time()\n",
    "        t_total = t_end - t_start\n",
    "        print(f\"Temps d'exécution: {round(t_total, 2)} secondes\")\n",
    "        return result\n",
    "    return wrapper"
   ]
  },
  {
   "cell_type": "code",
   "execution_count": 42,
   "metadata": {},
   "outputs": [],
   "source": [
    "# Besoin d'ajouter le décorateur @ au dessus de la fonction\n",
    "@timer\n",
    "def fonction(n):\n",
    "    for i in range(n * 1000000):\n",
    "        n = n + i\n",
    "    return n"
   ]
  },
  {
   "cell_type": "code",
   "execution_count": 44,
   "metadata": {},
   "outputs": [
    {
     "name": "stdout",
     "output_type": "stream",
     "text": [
      "Temps d'exécution: 2.16 secondes\n",
      "Résultat fonction: 3199999960000080\n"
     ]
    }
   ],
   "source": [
    "# Il n'est plus nécessaire d'appeler la fonction measure_time\n",
    "result = fonction(80)\n",
    "print(f\"Résultat fonction: {result}\")"
   ]
  }
 ],
 "metadata": {
  "kernelspec": {
   "display_name": "eda",
   "language": "python",
   "name": "python3"
  },
  "language_info": {
   "codemirror_mode": {
    "name": "ipython",
    "version": 3
   },
   "file_extension": ".py",
   "mimetype": "text/x-python",
   "name": "python",
   "nbconvert_exporter": "python",
   "pygments_lexer": "ipython3",
   "version": "3.9.18"
  }
 },
 "nbformat": 4,
 "nbformat_minor": 2
}
