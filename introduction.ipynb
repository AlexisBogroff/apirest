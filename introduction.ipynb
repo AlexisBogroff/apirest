{
 "cells": [
  {
   "cell_type": "markdown",
   "metadata": {},
   "source": [
    "# Les APIs REST avec Python"
   ]
  },
  {
   "cell_type": "markdown",
   "metadata": {},
   "source": [
    "## Création API REST avec Flask"
   ]
  },
  {
   "cell_type": "markdown",
   "metadata": {},
   "source": [
    "### Installation"
   ]
  },
  {
   "cell_type": "code",
   "execution_count": null,
   "metadata": {},
   "outputs": [],
   "source": [
    "# Installation avec Pip (PyPI)\n",
    "#!pip install -U Flask\n",
    "\n",
    "# Installation avec Anaconda (Conda)\n",
    "#!conda install -c anaconda flask"
   ]
  },
  {
   "cell_type": "markdown",
   "metadata": {},
   "source": [
    "Exemple minimaliste"
   ]
  },
  {
   "cell_type": "code",
   "execution_count": null,
   "metadata": {},
   "outputs": [],
   "source": [
    "from flask import Flask\n",
    "\n",
    "app = Flask(__name__)\n",
    "\n",
    "@app.route(\"/\")\n",
    "def hello_world():\n",
    "    return \"Connexion réussie !\"\n",
    "\n",
    "app.run()"
   ]
  },
  {
   "cell_type": "markdown",
   "metadata": {},
   "source": [
    "### Configuration de Flask\n",
    "*Différentes manières de configurer, **paramètres basiques** pour l'instant*"
   ]
  },
  {
   "cell_type": "markdown",
   "metadata": {},
   "source": [
    "Configuration directe"
   ]
  },
  {
   "cell_type": "code",
   "execution_count": null,
   "metadata": {},
   "outputs": [],
   "source": [
    "# Méthode 1: Configuration directe\n",
    "app.config['DEBUG'] = True\n",
    "app.config['SECRET_KEY'] = 'un_secret_très_sécurisé'"
   ]
  },
  {
   "cell_type": "markdown",
   "metadata": {},
   "source": [
    "Configurations améliorées pour davantage de praticité et de sécurité"
   ]
  },
  {
   "cell_type": "code",
   "execution_count": null,
   "metadata": {},
   "outputs": [],
   "source": [
    "# Méthode 2: Configuration à partir d'une classe séparée\n",
    "class Config(object):\n",
    "    DEBUG = True\n",
    "    SECRET_KEY = 'un_secret_très_sécurisé'\n",
    "\n",
    "app.config.from_object(Config)\n",
    "\n",
    "# Méthode 3: Configuration à partir d'un fichier CFG\n",
    "app.config.from_pyfile('config/config.cfg')\n",
    "\n",
    "# Méthode 4: Configuration à partir de variables d'environnement\n",
    "import os\n",
    "app.config['DEBUG'] = os.environ.get('DEBUG', False)\n",
    "app.config['SECRET_KEY'] = os.environ.get('SECRET_KEY', 'un_secret_très_sécurisé')\n",
    "\n",
    "# Méthode 5: Configuration à partir d'un fichier JSON\n",
    "import json\n",
    "with open('config/config.json') as f:\n",
    "    app.config.update(json.load(f))"
   ]
  },
  {
   "cell_type": "markdown",
   "metadata": {},
   "source": [
    "### Définition des routes\n",
    "Ajout de routes basiques"
   ]
  },
  {
   "cell_type": "code",
   "execution_count": null,
   "metadata": {},
   "outputs": [],
   "source": [
    "# Route basique\n",
    "@app.route('/login')\n",
    "def login():\n",
    "    return 'login'\n",
    "\n",
    "# Une fonction peut être associée à plusieurs routes.\n",
    "@app.route('/hello')\n",
    "@app.route('/bonjour')\n",
    "def hello():\n",
    "    return 'Bonjour!'"
   ]
  },
  {
   "cell_type": "markdown",
   "metadata": {},
   "source": [
    "Ajout de routes avec paramètres"
   ]
  },
  {
   "cell_type": "code",
   "execution_count": null,
   "metadata": {},
   "outputs": [],
   "source": [
    "# Route avec paramètre simple\n",
    "@app.route('/user/<username>')\n",
    "def profile(username):\n",
    "    return f'{username}\\'s profile'\n",
    "\n",
    "# Route avec paramètre converti / casté (en int)\n",
    "@app.route('/post/<int:post_id>')\n",
    "def show_post(post_id):\n",
    "    return f'Post {post_id}'\n",
    "\n",
    "# Passage de plusieurs paramètres\n",
    "@app.route('/user/<username>/<int:age>')\n",
    "def user(username, age):\n",
    "    return f'{username} is {age} years old'\n",
    "\n",
    "# Passage de paramètres optionnels\n",
    "@app.route('/user/<username>/<int:age>')\n",
    "@app.route('/user/<username>')\n",
    "def user(username, age=None):\n",
    "    if age:\n",
    "        return f'{username} is {age} years old'\n",
    "    else:\n",
    "        return f'{username} is ageless'\n",
    "\n",
    "# Passage de paramètres optionnels avec valeur par défaut [option 1]\n",
    "# Valeur par défaut inscrit dans la fonction\n",
    "@app.route('/user/<username>/<int:age>')\n",
    "@app.route('/user/<username>')\n",
    "@app.route('/user/<username>/<int:age>/<int:height>')\n",
    "def user(username, age=None, height=180):\n",
    "    if age:\n",
    "        return f'{username} is {age} years old and {height} cm tall'\n",
    "    else:\n",
    "        return f'{username} is ageless'\n",
    "    \n",
    "# Passage de paramètres optionnels avec valeur par défaut [option 2]\n",
    "# Valeur par défaut inscrit dans la route\n",
    "@app.route('/blog', defaults={'page': 1})\n",
    "@app.route('/blog/page/<int:page>')\n",
    "def blog(page):\n",
    "    return f'Page du blog {page}'"
   ]
  },
  {
   "cell_type": "markdown",
   "metadata": {},
   "source": [
    "### Définition des méthodes CRUD"
   ]
  },
  {
   "cell_type": "code",
   "execution_count": null,
   "metadata": {},
   "outputs": [],
   "source": [
    "# GET (par défaut)\n",
    "@app.route('/get_example')\n",
    "def get_example():\n",
    "    return \"Ceci est une réponse de GET!\"\n",
    "\n",
    "# POST\n",
    "from flask import request\n",
    "@app.route('/post_example', methods=['POST'])\n",
    "def post_example():\n",
    "    # Traitement des données envoyées (données brutes)\n",
    "    return request.args.get('keyword')  # TODO CHECK\n",
    "\n",
    "# GET et POST (classique pour un formulaire)\n",
    "@app.route('/multi_method', methods=['GET', 'POST'])\n",
    "def multi_method():\n",
    "    if request.method == 'POST':\n",
    "        # Traitement des données envoyées (données de formulaire)\n",
    "        return request.form['name']\n",
    "    else:\n",
    "        # GET par défaut\n",
    "        return \"Renvoi du formulaire\"\n",
    "\n",
    "# PUT\n",
    "@app.route('/update_item', methods=['PUT'])\n",
    "def update_item():\n",
    "    # Code pour mettre à jour un élément\n",
    "    return \"Élément mis à jour\"\n",
    "\n",
    "# DELETE\n",
    "@app.route('/delete_item', methods=['DELETE'])\n",
    "def delete_item():\n",
    "    # Code pour supprimer un élément\n",
    "    return \"Élément supprimé\"\n"
   ]
  },
  {
   "cell_type": "markdown",
   "metadata": {},
   "source": [
    "### Définition des réponses"
   ]
  },
  {
   "cell_type": "code",
   "execution_count": null,
   "metadata": {},
   "outputs": [],
   "source": [
    "# Renvoi d'une réponse simple\n",
    "@app.route('/')\n",
    "def home():\n",
    "    return \"Bienvenue sur ma page d'accueil!\"\n",
    "\n",
    "# Utilisation de make_response pratique pour ajouter \n",
    "# des éléments (code, headers, etc.) à une réponse pré-existante \n",
    "from flask import make_response\n",
    "@app.route('/custom')\n",
    "def custom_response():\n",
    "    resp = make_response(\"Contenu personnalisé\", 202)\n",
    "    resp.headers['X-Something'] = 'Valeur'\n",
    "    return resp\n",
    "\n",
    "# Renvoi d'un objet Response avec la classe Response\n",
    "# Permet un contrôle direct et complet sur les données\n",
    "# de réponse, statut HTTP, en-têtes, cookies, etc.\n",
    "# TODO CREER PLUSIEURS VARIATIONS DE REPONSES\n",
    "from flask import Response\n",
    "@app.route('/response')\n",
    "def response_example():\n",
    "    return Response(\"Contenu complet\", status=200, headers={'Content-Type': 'text/plain'})\n",
    "\n",
    "# Renvoi d'un JSON\n",
    "from flask import jsonify\n",
    "@app.route('/json')\n",
    "def json_example():\n",
    "    return jsonify({'key': 'value', 'listKey': [1, 2, 3]})\n",
    "\n",
    "# Streaming\n",
    "from flask import stream_with_context\n",
    "@app.route('/stream')\n",
    "def stream_example():\n",
    "    def generate():\n",
    "        yield 'Hello '\n",
    "        yield 'World!'\n",
    "    return Response(stream_with_context(generate()))\n",
    "\n",
    "# Redirection vers une autre page\n",
    "from flask import redirect\n",
    "@app.route('/redirect')\n",
    "def redirect_example():\n",
    "    return redirect('/')\n",
    "\n",
    "# Redirection vers une autre page avec url_for\n",
    "# Permet de ne pas avoir à écrire l'URL en dur\n",
    "# Nécessite d'avoir défini les routes avec un nom\n",
    "# Exemple: app.route('/', name='home')\n",
    "from flask import url_for\n",
    "@app.route('/redirect')\n",
    "def redirect_example():\n",
    "    return redirect(url_for('home'))"
   ]
  },
  {
   "cell_type": "markdown",
   "metadata": {},
   "source": [
    "### Lancer le serveur (API) "
   ]
  },
  {
   "cell_type": "markdown",
   "metadata": {},
   "source": [
    "Lancer cette commande dans votre terminal, ou dans un autre notebook\n",
    "```bash\n",
    "flask --app example_1_stream.py run --debug\n",
    "```"
   ]
  },
  {
   "cell_type": "code",
   "execution_count": 4,
   "metadata": {},
   "outputs": [
    {
     "name": "stdout",
     "output_type": "stream",
     "text": [
      "Hello \n",
      "World!\n",
      "This\n",
      "is\n",
      "a\n",
      "stream\n",
      "example.\n"
     ]
    }
   ],
   "source": [
    "# Stream call exemple\n",
    "import requests\n",
    "\n",
    "with requests.get(\"http://localhost:5000/stream\", stream=True) as response:\n",
    "    # chunk_size à None pour que la taille des chuncks soit définie par le serveur automatiquement\n",
    "    for chunk in response.iter_content(chunk_size=None):  \n",
    "        print(chunk.decode()) "
   ]
  },
  {
   "cell_type": "markdown",
   "metadata": {},
   "source": [
    "### Gestion d'erreurs"
   ]
  },
  {
   "cell_type": "markdown",
   "metadata": {},
   "source": [
    "Gestionnaires d'erreurs personnalisés"
   ]
  },
  {
   "cell_type": "code",
   "execution_count": null,
   "metadata": {},
   "outputs": [],
   "source": [
    "@app.errorhandler(404)\n",
    "def not_found_error(error):\n",
    "    return jsonify({'error': 'Resource not found'}), 404\n",
    "\n",
    "@app.errorhandler(500)\n",
    "def internal_error(error):\n",
    "    return jsonify({'error': 'Internal server error'}), 500"
   ]
  },
  {
   "cell_type": "markdown",
   "metadata": {},
   "source": [
    "Gestion des exceptions (erreurs **de code**)"
   ]
  },
  {
   "cell_type": "code",
   "execution_count": null,
   "metadata": {},
   "outputs": [],
   "source": [
    "@app.errorhandler(ValueError)\n",
    "def handle_value_error(error):\n",
    "    return jsonify({'error': str(error)}), 400"
   ]
  },
  {
   "cell_type": "markdown",
   "metadata": {},
   "source": [
    "Gestion d'erreurs globales\n",
    "- Uniformité : Permet d'avoir un traitement uniforme des erreurs spécifiques à travers toute l'application.\n",
    "- Maintenance : Centralise la gestion d'erreurs spécifiques, rendant le code plus facile à maintenir et à mettre à jour.\n",
    "- Simplicité : Évite de répéter la même logique de gestion d'erreurs dans différentes parties de l'application."
   ]
  },
  {
   "cell_type": "code",
   "execution_count": null,
   "metadata": {},
   "outputs": [],
   "source": [
    "def global_error_handler(error):\n",
    "    return jsonify({'error': 'Something went wrong'}), 500\n",
    "\n",
    "app.register_error_handler(500, global_error_handler)"
   ]
  },
  {
   "cell_type": "markdown",
   "metadata": {},
   "source": [
    "Création d'une erreur sous condition enfreinte"
   ]
  },
  {
   "cell_type": "code",
   "execution_count": null,
   "metadata": {},
   "outputs": [],
   "source": [
    "from flask import abort\n",
    "\n",
    "@app.route('/api')\n",
    "def my_api():\n",
    "    # Condition d'erreur\n",
    "    if error_condition:\n",
    "        abort(400, description='Invalid request')"
   ]
  },
  {
   "cell_type": "markdown",
   "metadata": {},
   "source": [
    "Logging des erreurs"
   ]
  },
  {
   "cell_type": "code",
   "execution_count": null,
   "metadata": {},
   "outputs": [],
   "source": [
    "import logging\n",
    "\n",
    "@app.errorhandler(500)\n",
    "def error_500_handler(error):\n",
    "    app.logger.error(f'Internal Server Error: {error}')\n",
    "    return jsonify({'error': 'Internal server error'}), 500"
   ]
  },
  {
   "cell_type": "markdown",
   "metadata": {},
   "source": [
    "## Consommation des APIs REST avec Python (**coté client**)"
   ]
  },
  {
   "cell_type": "markdown",
   "metadata": {},
   "source": [
    "### Utilisation de la bibliothèque requests\n",
    "Lancez le serveur dans votre terminal\n",
    "\n",
    "```bash\n",
    "flask --app example_3_basic_api_items.py run --debug\n",
    "```"
   ]
  },
  {
   "cell_type": "code",
   "execution_count": 7,
   "metadata": {},
   "outputs": [
    {
     "name": "stdout",
     "output_type": "stream",
     "text": [
      "<Response [201]>\n",
      "{'data': {'price': 2}, 'name': 'carotte'}\n"
     ]
    }
   ],
   "source": [
    "# POST\n",
    "item_name = 'carotte'\n",
    "price = 2\n",
    "new_item = requests.post(f'http://localhost:5000/item/{item_name}', json={'price': price})\n",
    "print(new_item)\n",
    "print(new_item.json())"
   ]
  },
  {
   "cell_type": "code",
   "execution_count": 8,
   "metadata": {},
   "outputs": [
    {
     "name": "stdout",
     "output_type": "stream",
     "text": [
      "<Response [200]>\n",
      "{'data': {'price': 2}, 'name': 'carotte'}\n"
     ]
    }
   ],
   "source": [
    "# GET\n",
    "item_1 = requests.get(f'http://localhost:5000/item/{item_name}')\n",
    "print(item_1)\n",
    "try:\n",
    "    print(item_1.json())\n",
    "except:\n",
    "    print('not found')"
   ]
  },
  {
   "cell_type": "code",
   "execution_count": 9,
   "metadata": {},
   "outputs": [
    {
     "name": "stdout",
     "output_type": "stream",
     "text": [
      "<Response [200]>\n",
      "{'data': {'carotte': 21}, 'name': 'carotte'}\n"
     ]
    }
   ],
   "source": [
    "# PUT\n",
    "import numpy as np\n",
    "new_price = np.random.randint(3, 30)\n",
    "\n",
    "update_item = requests.put(f'http://localhost:5000/item/{item_name}', json={item_name: new_price})\n",
    "print(update_item)\n",
    "print(update_item.json())"
   ]
  },
  {
   "cell_type": "code",
   "execution_count": 10,
   "metadata": {},
   "outputs": [
    {
     "name": "stdout",
     "output_type": "stream",
     "text": [
      "<Response [200]>\n",
      "{'message': 'Item deleted'}\n"
     ]
    }
   ],
   "source": [
    "# DELETE\n",
    "delete_item = requests.delete(f'http://localhost:5000/item/{item_name}')\n",
    "print(delete_item)\n",
    "print(delete_item.json())"
   ]
  },
  {
   "cell_type": "code",
   "execution_count": 11,
   "metadata": {},
   "outputs": [
    {
     "name": "stdout",
     "output_type": "stream",
     "text": [
      "<Response [200]>\n",
      "poireau\n",
      "{'poireau': {'data': {'poireau': 3}, 'name': 'poireau'}}\n"
     ]
    }
   ],
   "source": [
    "# GET sur tous les items\n",
    "items = requests.get('http://localhost:5000/items')\n",
    "print(items)\n",
    "print(*items.json())\n",
    "print(items.json())"
   ]
  },
  {
   "cell_type": "markdown",
   "metadata": {},
   "source": [
    "### Gestion des réponses"
   ]
  },
  {
   "cell_type": "markdown",
   "metadata": {},
   "source": [
    "- Interprétation du statut HTTP\n",
    "- Extraction, utilisation des données\n",
    "- Gestion des erreurs et exceptions (et extraction des messages d'erreurs transmis par l'API)\n",
    "- Logging des réponses"
   ]
  },
  {
   "cell_type": "markdown",
   "metadata": {},
   "source": [
    "Interprétation du statut HTTP"
   ]
  },
  {
   "cell_type": "code",
   "execution_count": 12,
   "metadata": {},
   "outputs": [
    {
     "name": "stdout",
     "output_type": "stream",
     "text": [
      "Tout fonctionne bien ! Status Code: 200\n",
      "{'poireau': {'data': {'poireau': 3}, 'name': 'poireau'}}\n"
     ]
    }
   ],
   "source": [
    "# GET et analyse du statut\n",
    "fonctionne = 'http://localhost:5000/items'\n",
    "ne_fonctionne_pas = 'http://localhost:5000/item/fruit_inconnu'\n",
    "\n",
    "item_1 = requests.get(fonctionne)\n",
    "\n",
    "if item_1.status_code == 200:\n",
    "    print(\"Tout fonctionne bien ! Status Code:\", item_1.status_code)\n",
    "    print(item_1.json())\n",
    "    # Traiter la réponse ici, si nécessaire\n",
    "else:\n",
    "    print(\"Problème détecté ! Status Code:\", item_1.status_code)\n",
    "    # Gérer les erreurs ici\n"
   ]
  },
  {
   "cell_type": "markdown",
   "metadata": {},
   "source": [
    "### Test avec les erreurs déclenchées dans l'API\n",
    "Lancez le serveur dans votre terminal\n",
    "\n",
    "```bash\n",
    "flask --app example_4_errors_handlers.py run --debug\n",
    "```"
   ]
  },
  {
   "cell_type": "markdown",
   "metadata": {},
   "source": [
    "Timeout car fonction trop longue"
   ]
  },
  {
   "cell_type": "code",
   "execution_count": 14,
   "metadata": {},
   "outputs": [
    {
     "name": "stdout",
     "output_type": "stream",
     "text": [
      "Temps d'attente maximal dépassé 3s\n"
     ]
    }
   ],
   "source": [
    "TIMEOUT = 3\n",
    "try:\n",
    "    response = requests.get('http://localhost:5000/timeout3s', timeout=TIMEOUT)\n",
    "    print(response.json())\n",
    "except requests.exceptions.Timeout:  # changer en HttpError pour montrer que l'erreur n'est pas captée et donc casse le code\n",
    "    print(f\"Temps d'attente maximal dépassé {TIMEOUT}s\")"
   ]
  },
  {
   "cell_type": "markdown",
   "metadata": {},
   "source": [
    "Tentative d'accès à une route inexistante"
   ]
  },
  {
   "cell_type": "code",
   "execution_count": 15,
   "metadata": {},
   "outputs": [
    {
     "name": "stdout",
     "output_type": "stream",
     "text": [
      "<Response [404]>\n",
      "\n",
      " <!doctype html>\n",
      "<html lang=en>\n",
      "<title>404 Not Found</title>\n",
      "<h1>Not Found</h1>\n",
      "<p>The requested URL was not found on the server. If you entered the URL manually please check your spelling and try again.</p>\n",
      "\n"
     ]
    }
   ],
   "source": [
    "# V1: erreur retournée dans le code de statut et dans le corps de la réponse\n",
    "response = requests.get('http://localhost:5000/lien_qui_n_existe_pas')\n",
    "print(response)\n",
    "print('\\n', response.text)"
   ]
  },
  {
   "cell_type": "code",
   "execution_count": 16,
   "metadata": {},
   "outputs": [
    {
     "name": "stdout",
     "output_type": "stream",
     "text": [
      "404 Client Error: NOT FOUND for url: http://localhost:5000/lien_qui_n_existe_pas\n"
     ]
    }
   ],
   "source": [
    "# V2: même chose mais avec levée de l'erreur (raise_for_status)\n",
    "# Et affichage du message automatique d'erreur (HTTPError)\n",
    "try:\n",
    "    response = requests.get('http://localhost:5000/lien_qui_n_existe_pas')\n",
    "    response.raise_for_status()\n",
    "    print(\"ceci ne sera pas lu \")\n",
    "except requests.exceptions.HTTPError as erreur_levee_par_raise_for_status:\n",
    "    print(erreur_levee_par_raise_for_status)"
   ]
  },
  {
   "cell_type": "code",
   "execution_count": 17,
   "metadata": {},
   "outputs": [
    {
     "name": "stdout",
     "output_type": "stream",
     "text": [
      "|| 404 jupy ||\n"
     ]
    }
   ],
   "source": [
    "# V3: même chose mais avec levée de l'erreur et personnalisation du message d'erreur\n",
    "try:\n",
    "    response = requests.get('http://localhost:5000/lien_qui_n_existe_pas')\n",
    "    response.raise_for_status()\n",
    "    print(\"ceci ne sera pas lu \")\n",
    "except requests.exceptions.HTTPError as erreur_levee_par_raise_for_status:\n",
    "    print(f\"|| 404 jupy ||\")"
   ]
  },
  {
   "cell_type": "markdown",
   "metadata": {},
   "source": [
    "Accès aux routes qui causeront des erreurs de différentes manières"
   ]
  },
  {
   "cell_type": "code",
   "execution_count": 18,
   "metadata": {},
   "outputs": [
    {
     "name": "stdout",
     "output_type": "stream",
     "text": [
      "<Response [500]>\n",
      "<!doctype html>\n",
      "<html lang=en>\n",
      "  <head>\n",
      "    <title>Exception: || Exception ||\n",
      " // Werkzeug Debugger</title>\n",
      "    <link rel=\"stylesheet\" href=\"?__debugger__=yes&amp;cmd=resource&amp;f=style.css\">\n",
      "    <link rel=\"shortcut icon\"\n",
      "        href=\"?__debugger__=yes&amp;cmd=resource&amp;f=console.png\">\n",
      "    <script src=\"?__debugger__=yes&amp;cmd=resource&amp;f=debugger.js\"></script>\n",
      "    <script>\n",
      "      var CONSOLE_MODE = false,\n",
      "          EVALEX = true,\n",
      "          EVALEX_TRUSTED = false,\n",
      "          SECRET = \"aOggdn3s2mbjSa7RxrJ6\";\n",
      "    </script>\n",
      "  </head>\n",
      "  <body style=\"background-color: #fff\">\n",
      "    <div class=\"debugger\">\n",
      "<h1>Exception</h1>\n",
      "<div class=\"detail\">\n",
      "  <p class=\"errormsg\">Exception: || Exception ||\n",
      "</p>\n",
      "</div>\n",
      "<h2 class=\"traceback\">Traceback <em>(most recent call last)</em></h2>\n",
      "<div class=\"traceback\">\n",
      "  <h3></h3>\n",
      "  <ul><li><div class=\"frame\" id=\"frame-4401407328\">\n",
      "  <h4>File <cite class=\"filename\">\"/Users/alexisbogroff/Installs/miniforge3/envs/api/lib/python3.11/site-packages/flask/app.py\"</cite>,\n",
      "      line <em class=\"line\">1478</em>,\n",
      "      in <code class=\"function\">__call__</code></h4>\n",
      "  <div class=\"source library\"><pre class=\"line before\"><span class=\"ws\">    </span>def __call__(self, environ: dict, start_response: t.Callable) -&gt; t.Any:</pre>\n",
      "<pre class=\"line before\"><span class=\"ws\">        </span>&#34;&#34;&#34;The WSGI server calls the Flask application object as the</pre>\n",
      "<pre class=\"line before\"><span class=\"ws\">        </span>WSGI application. This calls :meth:`wsgi_app`, which can be</pre>\n",
      "<pre class=\"line before\"><span class=\"ws\">        </span>wrapped to apply middleware.</pre>\n",
      "<pre class=\"line before\"><span class=\"ws\">        </span>&#34;&#34;&#34;</pre>\n",
      "<pre class=\"line current\"><span class=\"ws\">        </span>return self.wsgi_app(environ, start_response)\n",
      "<span class=\"ws\">        </span>       ^^^^^^^^^^^^^^^^^^^^^^^^^^^^^^^^^^^^^^</pre></div>\n",
      "</div>\n",
      "\n",
      "<li><div class=\"frame\" id=\"frame-4401411792\">\n",
      "  <h4>File <cite class=\"filename\">\"/Users/alexisbogroff/Installs/miniforge3/envs/api/lib/python3.11/site-packages/flask/app.py\"</cite>,\n",
      "      line <em class=\"line\">1458</em>,\n",
      "      in <code class=\"function\">wsgi_app</code></h4>\n",
      "  <div class=\"source library\"><pre class=\"line before\"><span class=\"ws\">            </span>try:</pre>\n",
      "<pre class=\"line before\"><span class=\"ws\">                </span>ctx.push()</pre>\n",
      "<pre class=\"line before\"><span class=\"ws\">                </span>response = self.full_dispatch_request()</pre>\n",
      "<pre class=\"line before\"><span class=\"ws\">            </span>except Exception as e:</pre>\n",
      "<pre class=\"line before\"><span class=\"ws\">                </span>error = e</pre>\n",
      "<pre class=\"line current\"><span class=\"ws\">                </span>response = self.handle_exception(e)\n",
      "<span class=\"ws\">                </span>           ^^^^^^^^^^^^^^^^^^^^^^^^</pre>\n",
      "<pre class=\"line after\"><span class=\"ws\">            </span>except:  # noqa: B001</pre>\n",
      "<pre class=\"line after\"><span class=\"ws\">                </span>error = sys.exc_info()[1]</pre>\n",
      "<pre class=\"line after\"><span class=\"ws\">                </span>raise</pre>\n",
      "<pre class=\"line after\"><span class=\"ws\">            </span>return response(environ, start_response)</pre>\n",
      "<pre class=\"line after\"><span class=\"ws\">        </span>finally:</pre></div>\n",
      "</div>\n",
      "\n",
      "<li><div class=\"frame\" id=\"frame-4401411936\">\n",
      "  <h4>File <cite class=\"filename\">\"/Users/alexisbogroff/Installs/miniforge3/envs/api/lib/python3.11/site-packages/flask/app.py\"</cite>,\n",
      "      line <em class=\"line\">1455</em>,\n",
      "      in <code class=\"function\">wsgi_app</code></h4>\n",
      "  <div class=\"source library\"><pre class=\"line before\"><span class=\"ws\">        </span>ctx = self.request_context(environ)</pre>\n",
      "<pre class=\"line before\"><span class=\"ws\">        </span>error: BaseException | None = None</pre>\n",
      "<pre class=\"line before\"><span class=\"ws\">        </span>try:</pre>\n",
      "<pre class=\"line before\"><span class=\"ws\">            </span>try:</pre>\n",
      "<pre class=\"line before\"><span class=\"ws\">                </span>ctx.push()</pre>\n",
      "<pre class=\"line current\"><span class=\"ws\">                </span>response = self.full_dispatch_request()\n",
      "<span class=\"ws\">                </span>           ^^^^^^^^^^^^^^^^^^^^^^^^^^^^</pre>\n",
      "<pre class=\"line after\"><span class=\"ws\">            </span>except Exception as e:</pre>\n",
      "<pre class=\"line after\"><span class=\"ws\">                </span>error = e</pre>\n",
      "<pre class=\"line after\"><span class=\"ws\">                </span>response = self.handle_exception(e)</pre>\n",
      "<pre class=\"line after\"><span class=\"ws\">            </span>except:  # noqa: B001</pre>\n",
      "<pre class=\"line after\"><span class=\"ws\">                </span>error = sys.exc_info()[1]</pre></div>\n",
      "</div>\n",
      "\n",
      "<li><div class=\"frame\" id=\"frame-4401412080\">\n",
      "  <h4>File <cite class=\"filename\">\"/Users/alexisbogroff/Installs/miniforge3/envs/api/lib/python3.11/site-packages/flask/app.py\"</cite>,\n",
      "      line <em class=\"line\">869</em>,\n",
      "      in <code class=\"function\">full_dispatch_request</code></h4>\n",
      "  <div class=\"source library\"><pre class=\"line before\"><span class=\"ws\">            </span>request_started.send(self, _async_wrapper=self.ensure_sync)</pre>\n",
      "<pre class=\"line before\"><span class=\"ws\">            </span>rv = self.preprocess_request()</pre>\n",
      "<pre class=\"line before\"><span class=\"ws\">            </span>if rv is None:</pre>\n",
      "<pre class=\"line before\"><span class=\"ws\">                </span>rv = self.dispatch_request()</pre>\n",
      "<pre class=\"line before\"><span class=\"ws\">        </span>except Exception as e:</pre>\n",
      "<pre class=\"line current\"><span class=\"ws\">            </span>rv = self.handle_user_exception(e)\n",
      "<span class=\"ws\">            </span>     ^^^^^^^^^^^^^^^^^^^^^^^^^^^^^</pre>\n",
      "<pre class=\"line after\"><span class=\"ws\">        </span>return self.finalize_request(rv)</pre>\n",
      "<pre class=\"line after\"><span class=\"ws\"></span> </pre>\n",
      "<pre class=\"line after\"><span class=\"ws\">    </span>def finalize_request(</pre>\n",
      "<pre class=\"line after\"><span class=\"ws\">        </span>self,</pre>\n",
      "<pre class=\"line after\"><span class=\"ws\">        </span>rv: ft.ResponseReturnValue | HTTPException,</pre></div>\n",
      "</div>\n",
      "\n",
      "<li><div class=\"frame\" id=\"frame-4401412224\">\n",
      "  <h4>File <cite class=\"filename\">\"/Users/alexisbogroff/Installs/miniforge3/envs/api/lib/python3.11/site-packages/flask/app.py\"</cite>,\n",
      "      line <em class=\"line\">867</em>,\n",
      "      in <code class=\"function\">full_dispatch_request</code></h4>\n",
      "  <div class=\"source library\"><pre class=\"line before\"><span class=\"ws\"></span> </pre>\n",
      "<pre class=\"line before\"><span class=\"ws\">        </span>try:</pre>\n",
      "<pre class=\"line before\"><span class=\"ws\">            </span>request_started.send(self, _async_wrapper=self.ensure_sync)</pre>\n",
      "<pre class=\"line before\"><span class=\"ws\">            </span>rv = self.preprocess_request()</pre>\n",
      "<pre class=\"line before\"><span class=\"ws\">            </span>if rv is None:</pre>\n",
      "<pre class=\"line current\"><span class=\"ws\">                </span>rv = self.dispatch_request()\n",
      "<span class=\"ws\">                </span>     ^^^^^^^^^^^^^^^^^^^^^^^</pre>\n",
      "<pre class=\"line after\"><span class=\"ws\">        </span>except Exception as e:</pre>\n",
      "<pre class=\"line after\"><span class=\"ws\">            </span>rv = self.handle_user_exception(e)</pre>\n",
      "<pre class=\"line after\"><span class=\"ws\">        </span>return self.finalize_request(rv)</pre>\n",
      "<pre class=\"line after\"><span class=\"ws\"></span> </pre>\n",
      "<pre class=\"line after\"><span class=\"ws\">    </span>def finalize_request(</pre></div>\n",
      "</div>\n",
      "\n",
      "<li><div class=\"frame\" id=\"frame-4401412368\">\n",
      "  <h4>File <cite class=\"filename\">\"/Users/alexisbogroff/Installs/miniforge3/envs/api/lib/python3.11/site-packages/flask/app.py\"</cite>,\n",
      "      line <em class=\"line\">852</em>,\n",
      "      in <code class=\"function\">dispatch_request</code></h4>\n",
      "  <div class=\"source library\"><pre class=\"line before\"><span class=\"ws\">            </span>and req.method == &#34;OPTIONS&#34;</pre>\n",
      "<pre class=\"line before\"><span class=\"ws\">        </span>):</pre>\n",
      "<pre class=\"line before\"><span class=\"ws\">            </span>return self.make_default_options_response()</pre>\n",
      "<pre class=\"line before\"><span class=\"ws\">        </span># otherwise dispatch to the handler for that endpoint</pre>\n",
      "<pre class=\"line before\"><span class=\"ws\">        </span>view_args: dict[str, t.Any] = req.view_args  # type: ignore[assignment]</pre>\n",
      "<pre class=\"line current\"><span class=\"ws\">        </span>return self.ensure_sync(self.view_functions[rule.endpoint])(**view_args)\n",
      "<span class=\"ws\">        </span>       ^^^^^^^^^^^^^^^^^^^^^^^^^^^^^^^^^^^^^^^^^^^^^^^^^^^^^^^^^^^^^^^^^</pre>\n",
      "<pre class=\"line after\"><span class=\"ws\"></span> </pre>\n",
      "<pre class=\"line after\"><span class=\"ws\">    </span>def full_dispatch_request(self) -&gt; Response:</pre>\n",
      "<pre class=\"line after\"><span class=\"ws\">        </span>&#34;&#34;&#34;Dispatches the request and on top of that performs request</pre>\n",
      "<pre class=\"line after\"><span class=\"ws\">        </span>pre and postprocessing as well as HTTP exception catching and</pre>\n",
      "<pre class=\"line after\"><span class=\"ws\">        </span>error handling.</pre></div>\n",
      "</div>\n",
      "\n",
      "<li><div class=\"frame\" id=\"frame-4401412512\">\n",
      "  <h4>File <cite class=\"filename\">\"/Users/alexisbogroff/git_repositories/apirest/example_4_errors_handlers.py\"</cite>,\n",
      "      line <em class=\"line\">70</em>,\n",
      "      in <code class=\"function\">exception</code></h4>\n",
      "  <div class=\"source \"><pre class=\"line before\"><span class=\"ws\">    </span>return {&#39;|message|&#39;: &#39;|| 4s ||&#39;}, 200</pre>\n",
      "<pre class=\"line before\"><span class=\"ws\"></span> </pre>\n",
      "<pre class=\"line before\"><span class=\"ws\"></span> </pre>\n",
      "<pre class=\"line before\"><span class=\"ws\"></span>@app.route(&#39;/exception&#39;)</pre>\n",
      "<pre class=\"line before\"><span class=\"ws\"></span>def exception():</pre>\n",
      "<pre class=\"line current\"><span class=\"ws\">    </span>raise Exception(&#39;|| Exception ||&#39;)\n",
      "<span class=\"ws\">    </span>^^^^^^^^^^^^^^^^^^^^^^^^^^^^^^^^^^</pre>\n",
      "<pre class=\"line after\"><span class=\"ws\"></span> </pre>\n",
      "<pre class=\"line after\"><span class=\"ws\"></span> </pre>\n",
      "<pre class=\"line after\"><span class=\"ws\"></span>@app.route(&#39;/type_error/&lt;val&gt;&#39;)</pre>\n",
      "<pre class=\"line after\"><span class=\"ws\"></span>def value_error(val):</pre>\n",
      "<pre class=\"line after\"><span class=\"ws\">    </span># Cette fonction va casser dès lors qu&#39;on lui passe une</pre></div>\n",
      "</div>\n",
      "</ul>\n",
      "  <blockquote>Exception: || Exception ||\n",
      "</blockquote>\n",
      "</div>\n",
      "\n",
      "<div class=\"plain\">\n",
      "    <p>\n",
      "      This is the Copy/Paste friendly version of the traceback.\n",
      "    </p>\n",
      "    <textarea cols=\"50\" rows=\"10\" name=\"code\" readonly>Traceback (most recent call last):\n",
      "  File &#34;/Users/alexisbogroff/Installs/miniforge3/envs/api/lib/python3.11/site-packages/flask/app.py&#34;, line 1478, in __call__\n",
      "    return self.wsgi_app(environ, start_response)\n",
      "           ^^^^^^^^^^^^^^^^^^^^^^^^^^^^^^^^^^^^^^\n",
      "  File &#34;/Users/alexisbogroff/Installs/miniforge3/envs/api/lib/python3.11/site-packages/flask/app.py&#34;, line 1458, in wsgi_app\n",
      "    response = self.handle_exception(e)\n",
      "               ^^^^^^^^^^^^^^^^^^^^^^^^\n",
      "  File &#34;/Users/alexisbogroff/Installs/miniforge3/envs/api/lib/python3.11/site-packages/flask/app.py&#34;, line 1455, in wsgi_app\n",
      "    response = self.full_dispatch_request()\n",
      "               ^^^^^^^^^^^^^^^^^^^^^^^^^^^^\n",
      "  File &#34;/Users/alexisbogroff/Installs/miniforge3/envs/api/lib/python3.11/site-packages/flask/app.py&#34;, line 869, in full_dispatch_request\n",
      "    rv = self.handle_user_exception(e)\n",
      "         ^^^^^^^^^^^^^^^^^^^^^^^^^^^^^\n",
      "  File &#34;/Users/alexisbogroff/Installs/miniforge3/envs/api/lib/python3.11/site-packages/flask/app.py&#34;, line 867, in full_dispatch_request\n",
      "    rv = self.dispatch_request()\n",
      "         ^^^^^^^^^^^^^^^^^^^^^^^\n",
      "  File &#34;/Users/alexisbogroff/Installs/miniforge3/envs/api/lib/python3.11/site-packages/flask/app.py&#34;, line 852, in dispatch_request\n",
      "    return self.ensure_sync(self.view_functions[rule.endpoint])(**view_args)\n",
      "           ^^^^^^^^^^^^^^^^^^^^^^^^^^^^^^^^^^^^^^^^^^^^^^^^^^^^^^^^^^^^^^^^^\n",
      "  File &#34;/Users/alexisbogroff/git_repositories/apirest/example_4_errors_handlers.py&#34;, line 70, in exception\n",
      "    raise Exception(&#39;|| Exception ||&#39;)\n",
      "Exception: || Exception ||\n",
      "</textarea>\n",
      "</div>\n",
      "<div class=\"explanation\">\n",
      "  The debugger caught an exception in your WSGI application.  You can now\n",
      "  look at the traceback which led to the error.  <span class=\"nojavascript\">\n",
      "  If you enable JavaScript you can also use additional features such as code\n",
      "  execution (if the evalex feature is enabled), automatic pasting of the\n",
      "  exceptions and much more.</span>\n",
      "</div>\n",
      "      <div class=\"footer\">\n",
      "        Brought to you by <strong class=\"arthur\">DON'T PANIC</strong>, your\n",
      "        friendly Werkzeug powered traceback interpreter.\n",
      "      </div>\n",
      "    </div>\n",
      "\n",
      "    <div class=\"pin-prompt\">\n",
      "      <div class=\"inner\">\n",
      "        <h3>Console Locked</h3>\n",
      "        <p>\n",
      "          The console is locked and needs to be unlocked by entering the PIN.\n",
      "          You can find the PIN printed out on the standard output of your\n",
      "          shell that runs the server.\n",
      "        <form>\n",
      "          <p>PIN:\n",
      "            <input type=text name=pin size=14>\n",
      "            <input type=submit name=btn value=\"Confirm Pin\">\n",
      "        </form>\n",
      "      </div>\n",
      "    </div>\n",
      "  </body>\n",
      "</html>\n",
      "\n",
      "<!--\n",
      "\n",
      "Traceback (most recent call last):\n",
      "  File \"/Users/alexisbogroff/Installs/miniforge3/envs/api/lib/python3.11/site-packages/flask/app.py\", line 1478, in __call__\n",
      "    return self.wsgi_app(environ, start_response)\n",
      "           ^^^^^^^^^^^^^^^^^^^^^^^^^^^^^^^^^^^^^^\n",
      "  File \"/Users/alexisbogroff/Installs/miniforge3/envs/api/lib/python3.11/site-packages/flask/app.py\", line 1458, in wsgi_app\n",
      "    response = self.handle_exception(e)\n",
      "               ^^^^^^^^^^^^^^^^^^^^^^^^\n",
      "  File \"/Users/alexisbogroff/Installs/miniforge3/envs/api/lib/python3.11/site-packages/flask/app.py\", line 1455, in wsgi_app\n",
      "    response = self.full_dispatch_request()\n",
      "               ^^^^^^^^^^^^^^^^^^^^^^^^^^^^\n",
      "  File \"/Users/alexisbogroff/Installs/miniforge3/envs/api/lib/python3.11/site-packages/flask/app.py\", line 869, in full_dispatch_request\n",
      "    rv = self.handle_user_exception(e)\n",
      "         ^^^^^^^^^^^^^^^^^^^^^^^^^^^^^\n",
      "  File \"/Users/alexisbogroff/Installs/miniforge3/envs/api/lib/python3.11/site-packages/flask/app.py\", line 867, in full_dispatch_request\n",
      "    rv = self.dispatch_request()\n",
      "         ^^^^^^^^^^^^^^^^^^^^^^^\n",
      "  File \"/Users/alexisbogroff/Installs/miniforge3/envs/api/lib/python3.11/site-packages/flask/app.py\", line 852, in dispatch_request\n",
      "    return self.ensure_sync(self.view_functions[rule.endpoint])(**view_args)\n",
      "           ^^^^^^^^^^^^^^^^^^^^^^^^^^^^^^^^^^^^^^^^^^^^^^^^^^^^^^^^^^^^^^^^^\n",
      "  File \"/Users/alexisbogroff/git_repositories/apirest/example_4_errors_handlers.py\", line 70, in exception\n",
      "    raise Exception('|| Exception ||')\n",
      "Exception: || Exception ||\n",
      "\n",
      "\n",
      "-->\n",
      "\n"
     ]
    }
   ],
   "source": [
    "# La plus fatale des erreurs est une erreur de code qui n'est pas gérée\n",
    "# Comme c'est le cas ici, cela va stopper le serveur\n",
    "response = requests.get('http://localhost:5000/exception')\n",
    "print(response)\n",
    "print(response.text)"
   ]
  },
  {
   "cell_type": "markdown",
   "metadata": {},
   "source": [
    "Systématisation des tests d'erreurs"
   ]
  },
  {
   "cell_type": "code",
   "execution_count": 19,
   "metadata": {},
   "outputs": [],
   "source": [
    "# Nous allons à présent conserver ce format pour requêter notre API\n",
    "# Autant en faire une fonction pour gangner en clarté\n",
    "def get_with_error(uri, domain='http://localhost:5000/'):\n",
    "    try:\n",
    "        response = requests.get(domain + uri)\n",
    "        response.raise_for_status()\n",
    "        return response\n",
    "    except requests.exceptions.HTTPError as e:\n",
    "        print(f\"|| {uri} jupy || -> {e}\\n\")\n",
    "        print(response.status_code)\n",
    "        print(response.text)"
   ]
  },
  {
   "cell_type": "code",
   "execution_count": 20,
   "metadata": {},
   "outputs": [
    {
     "name": "stdout",
     "output_type": "stream",
     "text": [
      "|| type_error/1 jupy || -> 500 Server Error: INTERNAL SERVER ERROR for url: http://localhost:5000/type_error/1\n",
      "\n",
      "500\n",
      "|| Type Error ||\n"
     ]
    }
   ],
   "source": [
    "# type_error captée par le errorhandler\n",
    "get_with_error('type_error/1')"
   ]
  },
  {
   "cell_type": "code",
   "execution_count": 22,
   "metadata": {},
   "outputs": [
    {
     "name": "stdout",
     "output_type": "stream",
     "text": [
      "|| 401 jupy || -> 401 Client Error: UNAUTHORIZED for url: http://localhost:5000/401\n",
      "\n",
      "401\n",
      "Pas de chance vous tombez sur une erreur : 401 Unauthorized: || 401  recup||\n"
     ]
    }
   ],
   "source": [
    "# 401 déclenchée via abort (la fonction n'a pas pu être exécutée au delà de abort)\n",
    "get_with_error('401')"
   ]
  },
  {
   "cell_type": "code",
   "execution_count": 23,
   "metadata": {},
   "outputs": [
    {
     "name": "stdout",
     "output_type": "stream",
     "text": [
      "|| 402 jupy || -> 404 Client Error: NOT FOUND for url: http://localhost:5000/402\n",
      "\n",
      "404\n",
      "<!doctype html>\n",
      "<html lang=en>\n",
      "<title>404 Not Found</title>\n",
      "<h1>Not Found</h1>\n",
      "<p>The requested URL was not found on the server. If you entered the URL manually please check your spelling and try again.</p>\n",
      "\n"
     ]
    }
   ],
   "source": [
    "# 402: erreur retournée dans le code de statut et dans le corps de la réponse\n",
    "# Mais cette fois-ci, nous avons personnalisé le message d'erreur\n",
    "# Contrairement à la tentative avec le lien_qui_n_existe_pas\n",
    "get_with_error('402')"
   ]
  },
  {
   "cell_type": "code",
   "execution_count": 24,
   "metadata": {},
   "outputs": [
    {
     "name": "stdout",
     "output_type": "stream",
     "text": [
      "|| 403 jupy || -> 403 Client Error: FORBIDDEN for url: http://localhost:5000/403\n",
      "\n",
      "403\n",
      "<!doctype html>\n",
      "<html lang=en>\n",
      "<title>403 Forbidden</title>\n",
      "<h1>Forbidden</h1>\n",
      "<p>|| 403 ||</p>\n",
      "\n"
     ]
    }
   ],
   "source": [
    "# 403: Le message d'erreur non personnalisé s'affichera\n",
    "# dans les logs et sera transmis dans le corps de la réponse\n",
    "get_with_error('403')"
   ]
  },
  {
   "cell_type": "code",
   "execution_count": 25,
   "metadata": {},
   "outputs": [
    {
     "name": "stdout",
     "output_type": "stream",
     "text": [
      "|| 405 jupy || -> 405 Client Error: METHOD NOT ALLOWED for url: http://localhost:5000/405\n",
      "\n",
      "405\n",
      "|| Tout va bien, nous gérons le problème :) ||\n"
     ]
    }
   ],
   "source": [
    "# 405: Le message d'erreur s'affichera dans le fichier de logs\n",
    "get_with_error('405')"
   ]
  },
  {
   "cell_type": "code",
   "execution_count": null,
   "metadata": {},
   "outputs": [],
   "source": []
  }
 ],
 "metadata": {
  "kernelspec": {
   "display_name": "apirest",
   "language": "python",
   "name": "python3"
  },
  "language_info": {
   "codemirror_mode": {
    "name": "ipython",
    "version": 3
   },
   "file_extension": ".py",
   "mimetype": "text/x-python",
   "name": "python",
   "nbconvert_exporter": "python",
   "pygments_lexer": "ipython3",
   "version": "3.11.6"
  }
 },
 "nbformat": 4,
 "nbformat_minor": 2
}
